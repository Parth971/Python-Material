{
 "cells": [
  {
   "cell_type": "markdown",
   "id": "2153058a",
   "metadata": {},
   "source": [
    "# Session 1: (By Tapan Sir) Git\n",
    "https://agripongit.vincenttunru.com/\n",
    "\n",
    "# (By Pritesh Sir) - Data Types and Python spacing(Lexical analysis)\n",
    "https://riptutorial.com/python/example/8674/how-indentation-is-parsed <br>\n",
    "https://docs.python.org/3/reference/lexical_analysis.html#indentation <br>\n",
    "https://docs.python.org/3/reference/datamodel.html#the-standard-type-hierarchy"
   ]
  },
  {
   "cell_type": "markdown",
   "id": "0b92f777",
   "metadata": {},
   "source": [
    "# Session 2: Expressions(operator precedence) and String format\n",
    "https://docs.python.org/3.7/reference/expressions.html#operator-precedence <br>\n",
    "https://docs.python.org/3.7/library/string.html <br>\n",
    "https://www.tutorialspoint.com//python/operators_precedence_example.htm"
   ]
  },
  {
   "cell_type": "code",
   "execution_count": 6,
   "id": "e61bb5da",
   "metadata": {},
   "outputs": [
    {
     "name": "stdout",
     "output_type": "stream",
     "text": [
      "False\n"
     ]
    }
   ],
   "source": [
    "# to detail out steps in solving below expression:\n",
    "print(2018 % 4 == 0 and 2018 % 100 != 0 or 2018 % 400 == 0)\n",
    "\n",
    "# \" %, ==, and, !=, or \" -> these operators are used\n",
    "# according to Operator Precedence, '%' > '==' > '!=' > 'and' > or\n",
    "# so first all modulos are calculated -> (2018 % 4) == 0 and (2018 % 100) != 0 or (2018 % 400) == 0\n",
    "# 2 == 0 and 18 != 0 or 18 == 0\n",
    "# now all == are alculated -> (2 == 0) and 18 != 0 or (18 == 0)\n",
    "# False and 18 != 0 or False\n",
    "# now all != are calculated -> False and (18 != 0) or Falsee\n",
    "# False and True or False\n",
    "# now all ands are calculate -> (False and True) or False\n",
    "# False or False\n",
    "# now all or's are calculated -> (False or False)\n",
    "# False"
   ]
  },
  {
   "cell_type": "code",
   "execution_count": 59,
   "id": "2d69b295",
   "metadata": {
    "scrolled": true
   },
   "outputs": [
    {
     "name": "stdout",
     "output_type": "stream",
     "text": [
      "Expression: 17 / 2 * 3 + 2, Ans: 27.5\n",
      "division is first according to associativity -> 8.5 * 3 + 2\n",
      "mutiplication afterwards but before addition according to precedence order -> 25.5 + 2\n",
      "Addition after all acccording to  precedence order, Hence ans is-> 27.5 \n",
      "\n",
      "Expression: 2 + 17 / 2 * 3, Ans: 27.5\n",
      "division is first according to associativity -> 2 + 8.5 * 3\n",
      "mutiplication afterwards but before addition according to precedence order -> 2 + 25.5\n",
      "Hence ans is 27.5 \n",
      "\n",
      "Expression: 19 % 4 + 15 / 2 * 3, Ans: 25.5\n",
      "division is first according to associativity -> 19 % 4 + 7.5 * 3\n",
      "mutiplication afterwards but before Modulus according to associativity -> 19 % 4 + 22.5\n",
      "Modulus afterwards, acccording to  associativity-> 3 + 22.5\n",
      "Hence ans is 25.5 \n",
      "\n",
      "Expression: (15 + 6) - 10 * 4, Ans: -19\n",
      "brackets is first according to precedence order -> 21 - 10 * 4\n",
      "mutiplication afterwards -> 21 - 40\n",
      "Hence ans is -19 \n",
      "\n",
      "Expression: 17 / 2 % 2 * 3**3, Ans: 13.5\n",
      " ** is first according to precedence order -> 17 / 2 % 2 * 27\n",
      "divide afterwards -> 8.5 % 2 * 27\n",
      "modulus afterwards -> 0.5 * 27\n",
      "mutiplication afterwards, Hence ans is -> 13.5 \n",
      "\n",
      "Expression: 2 ** 3 % 4 / 5 + 6 * 3 ** 2, Ans: 54.0\n",
      " ** is first according to precedence order -> 8 % 4 / 5 + 6 * 9\n",
      "modulus afterwards -> 0 / 5 + 6 * 9\n",
      "divide afterwards -> 0.0 + 6 * 9\n",
      "multiply afterwards -> 0.0 + 54\n",
      "Addition afterwards, Hence ans is -> 54.0 \n",
      "\n",
      "Expression: 2 * 3 ** 2 + 4 ** 3, Ans: 82\n",
      " ** is first according to precedence order -> 2 * 9 + 64,\n",
      "multiply afterwards -> 18 + 64\n",
      "Addition afterwards, Hence ans is -> 82 \n",
      "\n"
     ]
    }
   ],
   "source": [
    "# order : /, *, +\n",
    "x = 17 / 2 * 3 + 2\n",
    "print(f\"Expression: 17 / 2 * 3 + 2, Ans: {x}\")\n",
    "print(f\"division is first according to associativity -> {17/2} * 3 + 2\")\n",
    "print(f\"mutiplication afterwards but before addition according to precedence order -> {8.5*3} + 2\")\n",
    "print(f\"Addition after all acccording to  precedence order, Hence ans is-> {25.5 + 2} \\n\")\n",
    "\n",
    "# order : /, *, +\n",
    "x = 2 + 17 / 2 * 3\n",
    "print(f\"Expression: 2 + 17 / 2 * 3, Ans: {x}\")\n",
    "print(f\"division is first according to associativity -> 2 + {17/2} * 3\")\n",
    "print(f\"mutiplication afterwards but before addition according to precedence order -> 2 + {8.5*3}\")\n",
    "print(f\"Hence ans is {2 + 25.5} \\n\")\n",
    "\n",
    "# order : /, *, %, +\n",
    "x = 19 % 4 + 15 / 2 * 3\n",
    "print(f\"Expression: 19 % 4 + 15 / 2 * 3, Ans: {x}\")\n",
    "print(f\"division is first according to associativity -> 19 % 4 + {15 / 2} * 3\")\n",
    "print(f\"mutiplication afterwards but before Modulus according to associativity -> 19 % 4 + {7.5 * 3}\")\n",
    "print(f\"Modulus afterwards, acccording to  associativity-> {19 % 4} + 22.5\")\n",
    "print(f\"Hence ans is {3 + 22.5} \\n\")\n",
    "\n",
    "# order : (), *, -\n",
    "x = (15 + 6) - 10 * 4\n",
    "print(f\"Expression: (15 + 6) - 10 * 4, Ans: {x}\")\n",
    "print(f\"brackets is first according to precedence order -> {(15 + 6)} - 10 * 4\")\n",
    "print(f\"mutiplication afterwards -> {(15 + 6)} - {10 * 4}\")\n",
    "print(f\"Hence ans is {x} \\n\")\n",
    "\n",
    "\n",
    "# order : **, /, %, *\n",
    "x = 17 / 2 % 2 * 3**3\n",
    "print(f\"Expression: 17 / 2 % 2 * 3**3, Ans: {x}\")\n",
    "print(f\" ** is first according to precedence order -> 17 / 2 % 2 * {3**3}\")\n",
    "print(f\"divide afterwards -> {17 / 2} % 2 * 27\")\n",
    "print(f\"modulus afterwards -> {8.5 % 2} * 27\")\n",
    "print(f\"mutiplication afterwards, Hence ans is -> {0.5 * 27} \\n\")\n",
    "\n",
    "\n",
    "a = 2\n",
    "b = 3\n",
    "c = 4\n",
    "d = 5\n",
    "e = 6\n",
    "\n",
    "\n",
    "# order : **, %, /, *, +\n",
    "x = a ** b % c / d + e * b ** a\n",
    "print(f\"Expression: {a} ** {b} % {c} / {d} + {e} * {b} ** {a}, Ans: {x}\")\n",
    "print(f\" ** is first according to precedence order -> {a ** b} % {c} / {d} + {e} * {b ** a}\")\n",
    "print(f\"modulus afterwards -> {8 % c} / {d} + {e} * 9\")\n",
    "print(f\"divide afterwards -> {0 / d} + {e} * 9\")\n",
    "print(f\"multiply afterwards -> 0.0 + {e * 9}\")\n",
    "print(f\"Addition afterwards, Hence ans is -> {0.0 + 54} \\n\")\n",
    "\n",
    "\n",
    "# order : **, *, +\n",
    "x = a * b ** 2 + c ** 3\n",
    "print(f\"Expression: {a} * {b} ** 2 + {c} ** 3, Ans: {x}\")\n",
    "print(f\" ** is first according to precedence order -> {a} * {b ** 2} + {c ** 3},\")\n",
    "print(f\"multiply afterwards -> {a * 9} + 64\")\n",
    "print(f\"Addition afterwards, Hence ans is -> {18 + 64} \\n\")"
   ]
  },
  {
   "cell_type": "code",
   "execution_count": 61,
   "id": "74674211",
   "metadata": {},
   "outputs": [
    {
     "name": "stdout",
     "output_type": "stream",
     "text": [
      "Hello _______19.44________\n",
      "Hello _______10011________\n",
      "Hello ______0b10011_______\n",
      "Hello _________19_________\n",
      "Hello _________19_________\n",
      "Hello ________0o23________\n",
      "Hello ________0X13________\n",
      "Hello ________0x13________\n",
      "Hello _________1__________\n",
      "Hello ______1.94e+01______\n",
      "Hello ______1.94E+01______\n",
      "Hello _______19.444_______\n",
      "Hello _______19.444_______\n",
      "Hello _______19.44________\n",
      "Hello _______19.44________\n",
      "Hello _______19.44________\n",
      "Hello ______1944.44%______\n",
      "'hello'\n",
      "world\n"
     ]
    }
   ],
   "source": [
    "print(\"Hello {:_^#20.4}\".format(19.44444))\n",
    "print(\"Hello {:_^20b}\".format(19))\n",
    "print(\"Hello {:_^#20b}\".format(19))\n",
    "print(\"Hello {:_^#20d}\".format(19))\n",
    "print(\"Hello {:_^#20n}\".format(19))\n",
    "print(\"Hello {:_^#20o}\".format(19))\n",
    "print(\"Hello {:_^#20X}\".format(19))\n",
    "print(\"Hello {:_^#20x}\".format(19))\n",
    "print(\"Hello {:_^20c}\".format(49))\n",
    "\n",
    "\n",
    "print(\"Hello {:_^20.2e}\".format(19.44444444444444444))\n",
    "print(\"Hello {:_^20.2E}\".format(19.44444444444444444))\n",
    "print(\"Hello {:_^20.3f}\".format(19.44444444444444444))\n",
    "print(\"Hello {:_^20.3F}\".format(19.44444444444444444))\n",
    "\n",
    "print(\"Hello {:_^20.4g}\".format(19.44444444444444444))\n",
    "print(\"Hello {:_^20.4G}\".format(19.44444444444444444))\n",
    "\n",
    "print(\"Hello {:_^20.4n}\".format(19.44444444444444444))\n",
    "print(\"Hello {:_^20.2%}\".format(19.44444444444444444))\n",
    "\n",
    "print(\"{arg!r}\".format(arg=\"hello\"))\n",
    "print(\"{arg!s}\".format(arg=\"world\"))"
   ]
  },
  {
   "cell_type": "code",
   "execution_count": 63,
   "id": "27e696a2",
   "metadata": {},
   "outputs": [
    {
     "name": "stdout",
     "output_type": "stream",
     "text": [
      "hello Parth, your age is 21\n",
      "hello Yash, your age is 20\n"
     ]
    }
   ],
   "source": [
    "from string import Template\n",
    "\n",
    "template = Template(\"hello $name, your age is $age\")\n",
    "print(template.substitute(name=\"Parth\", age=21))\n",
    "print(template.substitute(name=\"Yash\", age=20))"
   ]
  },
  {
   "cell_type": "code",
   "execution_count": 4,
   "id": "21dbd0cb",
   "metadata": {},
   "outputs": [
    {
     "name": "stdout",
     "output_type": "stream",
     "text": [
      "manali\n",
      "False True <class 'str'> <class 'str'> manali manali\n"
     ]
    }
   ],
   "source": [
    "a = \"manali\"\n",
    "b = input()\n",
    "\n",
    "print(a is b, a==b, type(a), type(b), a, b)"
   ]
  },
  {
   "cell_type": "markdown",
   "id": "bc958a8a",
   "metadata": {},
   "source": [
    "# Session 3: Control Flows(if..else..) and Compound statements(loops) \n",
    "https://docs.python.org/3.7/tutorial/controlflow.html <br>\n",
    "https://docs.python.org/3.7/reference/compound_stmts.html#for <br>\n",
    "https://docs.python.org/3.7/reference/compound_stmts.html#while <br>\n",
    "https://docs.python.org/3.7/tutorial/controlflow.html#break-and-continue-statements-and-else-clauses-on-loops"
   ]
  },
  {
   "cell_type": "code",
   "execution_count": 1,
   "id": "b6d6995c",
   "metadata": {},
   "outputs": [
    {
     "name": "stdout",
     "output_type": "stream",
     "text": [
      "0 1 2 3 4 5 6 7 8 9 10 "
     ]
    }
   ],
   "source": [
    "class GetOutOfLoop( Exception ):\n",
    "    pass\n",
    "\n",
    "while True:\n",
    "    try:\n",
    "        for num in range(100):\n",
    "            if num>10:\n",
    "                raise GetOutOfLoop\n",
    "            else:\n",
    "                print(num, end=' ')\n",
    "    except GetOutOfLoop:\n",
    "        break"
   ]
  },
  {
   "cell_type": "code",
   "execution_count": 6,
   "id": "4fc8974b",
   "metadata": {},
   "outputs": [
    {
     "name": "stdout",
     "output_type": "stream",
     "text": [
      "0 1 2 3 4 5 6 7 8 9 10 "
     ]
    }
   ],
   "source": [
    "# The else block just after for/while is executed only when the loop is NOT terminated by a break statement.\n",
    "while True:\n",
    "    \n",
    "    for num in range(100):\n",
    "        if num > 10:\n",
    "            break\n",
    "        else:\n",
    "            print(num, end=' ')\n",
    "    else:\n",
    "        continue\n",
    "    break"
   ]
  },
  {
   "cell_type": "markdown",
   "id": "0778b2f0",
   "metadata": {},
   "source": [
    "# Session 4 : Comprehension and Slicing\n",
    "https://realpython.com/list-comprehension-python/ <br>\n",
    "https://docs.python.org/3/tutorial/introduction.html#strings <br>\n",
    "https://stackoverflow.com/questions/509211/understanding-slice-notation/509295#509295"
   ]
  },
  {
   "cell_type": "code",
   "execution_count": 8,
   "id": "be522eb6",
   "metadata": {},
   "outputs": [
    {
     "name": "stdout",
     "output_type": "stream",
     "text": [
      "[0, 1, 2, 3, 4, 5, 6, 7, 8, 9] [0, 2, 4, 6, 8] [0, 0, 2, 0, 4, 0, 6, 0, 8, 0]\n",
      "{1, 2, 4, 5, 7, 8}\n"
     ]
    }
   ],
   "source": [
    "# list comprehension\n",
    "numbers = [number for number in range(10)]\n",
    "even = [number for number in range(10) if number%2==0]\n",
    "odd = [number if number%2==0 else 0 for number in range(10)]\n",
    "print(numbers, even, odd)\n",
    "\n",
    "# set comprehension\n",
    "lis_num = {number for number in range(10) if number%3!=0}\n",
    "print(lis_num)\n",
    "\n",
    "# When the input interable is a huge data set then avoid using comprehension in all cases."
   ]
  },
  {
   "cell_type": "code",
   "execution_count": 17,
   "id": "8f611c26",
   "metadata": {},
   "outputs": [
    {
     "name": "stdout",
     "output_type": "stream",
     "text": [
      "Hello world\n",
      "Hel\n",
      "llo \n",
      "Hlowrd\n",
      "dlrow\n",
      "drwo\n",
      "dlrow olleH\n"
     ]
    }
   ],
   "source": [
    "string = \"Hello world\"\n",
    "print(string[:])\n",
    "print(string[:3])\n",
    "print(string[2:6])\n",
    "print(string[::2])\n",
    "print(string[-1:-6:-1])\n",
    "print(string[-1:-8:-2])\n",
    "print(string[::-1])"
   ]
  },
  {
   "cell_type": "markdown",
   "id": "c4b9a2c7",
   "metadata": {},
   "source": [
    "# Session 5 : Iterators and Iterables\n",
    "https://docs.python.org/3/library/stdtypes.html#iterator-types\n",
    "\n",
    "\n",
    "Extra parallel work: <br>\n",
    "Algorithm - https://www.youtube.com/playlist?list=PLDN4rrl48XKpZkf03iYFl-O29szjTrs_O <br>\n",
    "Data Structures and Algorithms Course in Hindi - https://www.youtube.com/playlist?list=PLu0W_9lII9ahIappRPN0MCAgtOu3lQjQi <br>\n",
    "https://www.programiz.com/dsa <br>\n",
    "https://jovian.ai/learn/data-structures-and-algorithms-in-python <br>\n",
    "https://docs.python.org/3/library/stdtypes.html#iterator-types\n"
   ]
  },
  {
   "cell_type": "code",
   "execution_count": 23,
   "id": "fc8674f5",
   "metadata": {},
   "outputs": [],
   "source": [
    "# object is iterable if it has __iter__ method which return iterator object\n",
    "# iterator object should have __next__ method which returns next element or StopIterationException\n",
    "# All itrators and itrables can be looped over (because iterator also implements __iter__ method)\n",
    "class Users():\n",
    "    def __init__(self):\n",
    "        self.data = {}\n",
    "    def addUser(self, name, gender, email, phone):\n",
    "        self.data[len(self.data)] = {\"name\": name, \"gender\": gender, \"email\": email, \"phone\": phone}\n",
    "    def __iter__(self):\n",
    "        return UsersIterator(self)\n",
    "class UsersIterator():\n",
    "    def __init__(self, iterable_obj):\n",
    "        self.iter_obj = iterable_obj\n",
    "        self.current_index = 0\n",
    "    def __next__(self):\n",
    "        if self.current_index < len(self.iter_obj.data):\n",
    "            result = self.iter_obj.data[self.current_index][\"name\"]\n",
    "            self.current_index += 1\n",
    "            return result\n",
    "        raise StopIteration\n",
    "    def __iter__(self):\n",
    "        return self\n",
    "    "
   ]
  },
  {
   "cell_type": "code",
   "execution_count": 24,
   "id": "479da3c6",
   "metadata": {},
   "outputs": [],
   "source": [
    "users = Users()\n",
    "users.addUser(\"parth\", \"male\", \"parth@parth.com\", \"2112122121\")\n",
    "users.addUser(\"parth1\", \"male\", \"parth@parth.in\", \"6776767677\")\n",
    "users.addUser(\"parth2\", \"male\", \"parth@parth.co.in\", \"09090900909\")"
   ]
  },
  {
   "cell_type": "code",
   "execution_count": 25,
   "id": "39159bc3",
   "metadata": {},
   "outputs": [
    {
     "name": "stdout",
     "output_type": "stream",
     "text": [
      "parth\n",
      "parth1\n",
      "parth2\n"
     ]
    }
   ],
   "source": [
    "for userName in users:\n",
    "    print(userName)"
   ]
  },
  {
   "cell_type": "markdown",
   "id": "e3851cd6",
   "metadata": {},
   "source": [
    "https://www.youtube.com/playlist?list=PL3pGy4HtqwD02GVgM96-V0sq4_DSinqvf\n",
    "https://www.quora.com/I-suck-at-pattern-printing-using-nested-loops-Which-is-the-best-way-and-where-do-I-learn-and-practice-them\n",
    "https://stackoverflow.com/questions/8929284/what-makes-sets-faster-than-lists#:~:text=Generally%20the%20lists%20are%20speed,average%20is%20O(1)\n",
    "https://www.freecodecamp.org/news/best-python-courses/amp/"
   ]
  },
  {
   "cell_type": "markdown",
   "id": "7ec44b9b",
   "metadata": {},
   "source": [
    "# Session 6: itertools\n"
   ]
  },
  {
   "cell_type": "code",
   "execution_count": 2,
   "id": "548ca6fe",
   "metadata": {},
   "outputs": [
    {
     "name": "stdout",
     "output_type": "stream",
     "text": [
      "<itertools.chain object at 0x7f9676201c40>\n"
     ]
    }
   ],
   "source": [
    "from itertools import chain\n",
    "numbers = [1, 2, 3]\n",
    "characters = ['a', 'b', 'c']\n",
    "\n",
    "\n",
    "chained_iterables = chain(numbers, characters)\n",
    "print(chained_iterables)"
   ]
  },
  {
   "cell_type": "markdown",
   "id": "23f3f6c7",
   "metadata": {},
   "source": [
    "# itertools\n",
    "chain\n",
    "chain.from_iterable\n",
    "\n",
    "zip\n",
    "zip_longest\n",
    "islice\n",
    "tee\n",
    "\n",
    "# Converting Inputs\n",
    "map\n",
    "starmap\n",
    "\n",
    "# Producing New Values\n",
    "count\n",
    "cycle\n",
    "repeat\n",
    "\n",
    "# Filtering\n",
    "dropwhile\n",
    "takewhile\n",
    "filter\n",
    "filterfalse\n",
    "compress\n",
    "groupby\n",
    "\n",
    "# Combining Inputs\n",
    "accumulate\n",
    "product\n",
    "permutations\n",
    "combinations\n",
    "combinations_with_replacement"
   ]
  },
  {
   "cell_type": "code",
   "execution_count": 7,
   "id": "589d1cc6",
   "metadata": {},
   "outputs": [
    {
     "name": "stdout",
     "output_type": "stream",
     "text": [
      "(0, 'a') (0, 'b') (0, 'c') (0, 'd') (0, 'e') (1, 'a') (1, 'b') (1, 'c') (1, 'd') (1, 'e') (2, 'a') (2, 'b') (2, 'c') (2, 'd') (2, 'e') (3, 'a') (3, 'b') (3, 'c') (3, 'd') (3, 'e') (4, 'a') (4, 'b') (4, 'c') (4, 'd') (4, 'e') (5, 'a') (5, 'b') (5, 'c') (5, 'd') (5, 'e') (6, 'a') (6, 'b') (6, 'c') (6, 'd') (6, 'e') (7, 'a') (7, 'b') (7, 'c') (7, 'd') (7, 'e') \n",
      "\n",
      "product with self\n",
      "\n",
      "(0, 0) (0, 1) (0, 2) (0, 3) (0, 4) (0, 5) (0, 6) (0, 7) (1, 0) (1, 1) (1, 2) (1, 3) (1, 4) (1, 5) (1, 6) (1, 7) (2, 0) (2, 1) (2, 2) (2, 3) (2, 4) (2, 5) (2, 6) (2, 7) (3, 0) (3, 1) (3, 2) (3, 3) (3, 4) (3, 5) (3, 6) (3, 7) (4, 0) (4, 1) (4, 2) (4, 3) (4, 4) (4, 5) (4, 6) (4, 7) (5, 0) (5, 1) (5, 2) (5, 3) (5, 4) (5, 5) (5, 6) (5, 7) (6, 0) (6, 1) (6, 2) (6, 3) (6, 4) (6, 5) (6, 6) (6, 7) (7, 0) (7, 1) (7, 2) (7, 3) (7, 4) (7, 5) (7, 6) (7, 7) \n",
      "\n",
      "(0, 0, 0) (0, 0, 1) (0, 0, 2) (0, 0, 3) (0, 0, 4) (0, 0, 5) (0, 0, 6) (0, 0, 7) (0, 1, 0) (0, 1, 1) (0, 1, 2) (0, 1, 3) (0, 1, 4) (0, 1, 5) (0, 1, 6) (0, 1, 7) (0, 2, 0) (0, 2, 1) (0, 2, 2) (0, 2, 3) (0, 2, 4) (0, 2, 5) (0, 2, 6) (0, 2, 7) (0, 3, 0) (0, 3, 1) (0, 3, 2) (0, 3, 3) (0, 3, 4) (0, 3, 5) (0, 3, 6) (0, 3, 7) (0, 4, 0) (0, 4, 1) (0, 4, 2) (0, 4, 3) (0, 4, 4) (0, 4, 5) (0, 4, 6) (0, 4, 7) (0, 5, 0) (0, 5, 1) (0, 5, 2) (0, 5, 3) (0, 5, 4) (0, 5, 5) (0, 5, 6) (0, 5, 7) (0, 6, 0) (0, 6, 1) (0, 6, 2) (0, 6, 3) (0, 6, 4) (0, 6, 5) (0, 6, 6) (0, 6, 7) (0, 7, 0) (0, 7, 1) (0, 7, 2) (0, 7, 3) (0, 7, 4) (0, 7, 5) (0, 7, 6) (0, 7, 7) (1, 0, 0) (1, 0, 1) (1, 0, 2) (1, 0, 3) (1, 0, 4) (1, 0, 5) (1, 0, 6) (1, 0, 7) (1, 1, 0) (1, 1, 1) (1, 1, 2) (1, 1, 3) (1, 1, 4) (1, 1, 5) (1, 1, 6) (1, 1, 7) (1, 2, 0) (1, 2, 1) (1, 2, 2) (1, 2, 3) (1, 2, 4) (1, 2, 5) (1, 2, 6) (1, 2, 7) (1, 3, 0) (1, 3, 1) (1, 3, 2) (1, 3, 3) (1, 3, 4) (1, 3, 5) (1, 3, 6) (1, 3, 7) (1, 4, 0) (1, 4, 1) (1, 4, 2) (1, 4, 3) (1, 4, 4) (1, 4, 5) (1, 4, 6) (1, 4, 7) (1, 5, 0) (1, 5, 1) (1, 5, 2) (1, 5, 3) (1, 5, 4) (1, 5, 5) (1, 5, 6) (1, 5, 7) (1, 6, 0) (1, 6, 1) (1, 6, 2) (1, 6, 3) (1, 6, 4) (1, 6, 5) (1, 6, 6) (1, 6, 7) (1, 7, 0) (1, 7, 1) (1, 7, 2) (1, 7, 3) (1, 7, 4) (1, 7, 5) (1, 7, 6) (1, 7, 7) (2, 0, 0) (2, 0, 1) (2, 0, 2) (2, 0, 3) (2, 0, 4) (2, 0, 5) (2, 0, 6) (2, 0, 7) (2, 1, 0) (2, 1, 1) (2, 1, 2) (2, 1, 3) (2, 1, 4) (2, 1, 5) (2, 1, 6) (2, 1, 7) (2, 2, 0) (2, 2, 1) (2, 2, 2) (2, 2, 3) (2, 2, 4) (2, 2, 5) (2, 2, 6) (2, 2, 7) (2, 3, 0) (2, 3, 1) (2, 3, 2) (2, 3, 3) (2, 3, 4) (2, 3, 5) (2, 3, 6) (2, 3, 7) (2, 4, 0) (2, 4, 1) (2, 4, 2) (2, 4, 3) (2, 4, 4) (2, 4, 5) (2, 4, 6) (2, 4, 7) (2, 5, 0) (2, 5, 1) (2, 5, 2) (2, 5, 3) (2, 5, 4) (2, 5, 5) (2, 5, 6) (2, 5, 7) (2, 6, 0) (2, 6, 1) (2, 6, 2) (2, 6, 3) (2, 6, 4) (2, 6, 5) (2, 6, 6) (2, 6, 7) (2, 7, 0) (2, 7, 1) (2, 7, 2) (2, 7, 3) (2, 7, 4) (2, 7, 5) (2, 7, 6) (2, 7, 7) (3, 0, 0) (3, 0, 1) (3, 0, 2) (3, 0, 3) (3, 0, 4) (3, 0, 5) (3, 0, 6) (3, 0, 7) (3, 1, 0) (3, 1, 1) (3, 1, 2) (3, 1, 3) (3, 1, 4) (3, 1, 5) (3, 1, 6) (3, 1, 7) (3, 2, 0) (3, 2, 1) (3, 2, 2) (3, 2, 3) (3, 2, 4) (3, 2, 5) (3, 2, 6) (3, 2, 7) (3, 3, 0) (3, 3, 1) (3, 3, 2) (3, 3, 3) (3, 3, 4) (3, 3, 5) (3, 3, 6) (3, 3, 7) (3, 4, 0) (3, 4, 1) (3, 4, 2) (3, 4, 3) (3, 4, 4) (3, 4, 5) (3, 4, 6) (3, 4, 7) (3, 5, 0) (3, 5, 1) (3, 5, 2) (3, 5, 3) (3, 5, 4) (3, 5, 5) (3, 5, 6) (3, 5, 7) (3, 6, 0) (3, 6, 1) (3, 6, 2) (3, 6, 3) (3, 6, 4) (3, 6, 5) (3, 6, 6) (3, 6, 7) (3, 7, 0) (3, 7, 1) (3, 7, 2) (3, 7, 3) (3, 7, 4) (3, 7, 5) (3, 7, 6) (3, 7, 7) (4, 0, 0) (4, 0, 1) (4, 0, 2) (4, 0, 3) (4, 0, 4) (4, 0, 5) (4, 0, 6) (4, 0, 7) (4, 1, 0) (4, 1, 1) (4, 1, 2) (4, 1, 3) (4, 1, 4) (4, 1, 5) (4, 1, 6) (4, 1, 7) (4, 2, 0) (4, 2, 1) (4, 2, 2) (4, 2, 3) (4, 2, 4) (4, 2, 5) (4, 2, 6) (4, 2, 7) (4, 3, 0) (4, 3, 1) (4, 3, 2) (4, 3, 3) (4, 3, 4) (4, 3, 5) (4, 3, 6) (4, 3, 7) (4, 4, 0) (4, 4, 1) (4, 4, 2) (4, 4, 3) (4, 4, 4) (4, 4, 5) (4, 4, 6) (4, 4, 7) (4, 5, 0) (4, 5, 1) (4, 5, 2) (4, 5, 3) (4, 5, 4) (4, 5, 5) (4, 5, 6) (4, 5, 7) (4, 6, 0) (4, 6, 1) (4, 6, 2) (4, 6, 3) (4, 6, 4) (4, 6, 5) (4, 6, 6) (4, 6, 7) (4, 7, 0) (4, 7, 1) (4, 7, 2) (4, 7, 3) (4, 7, 4) (4, 7, 5) (4, 7, 6) (4, 7, 7) (5, 0, 0) (5, 0, 1) (5, 0, 2) (5, 0, 3) (5, 0, 4) (5, 0, 5) (5, 0, 6) (5, 0, 7) (5, 1, 0) (5, 1, 1) (5, 1, 2) (5, 1, 3) (5, 1, 4) (5, 1, 5) (5, 1, 6) (5, 1, 7) (5, 2, 0) (5, 2, 1) (5, 2, 2) (5, 2, 3) (5, 2, 4) (5, 2, 5) (5, 2, 6) (5, 2, 7) (5, 3, 0) (5, 3, 1) (5, 3, 2) (5, 3, 3) (5, 3, 4) (5, 3, 5) (5, 3, 6) (5, 3, 7) (5, 4, 0) (5, 4, 1) (5, 4, 2) (5, 4, 3) (5, 4, 4) (5, 4, 5) (5, 4, 6) (5, 4, 7) (5, 5, 0) (5, 5, 1) (5, 5, 2) (5, 5, 3) (5, 5, 4) (5, 5, 5) (5, 5, 6) (5, 5, 7) (5, 6, 0) (5, 6, 1) (5, 6, 2) (5, 6, 3) (5, 6, 4) (5, 6, 5) (5, 6, 6) (5, 6, 7) (5, 7, 0) (5, 7, 1) (5, 7, 2) (5, 7, 3) (5, 7, 4) (5, 7, 5) (5, 7, 6) (5, 7, 7) (6, 0, 0) (6, 0, 1) (6, 0, 2) (6, 0, 3) (6, 0, 4) (6, 0, 5) (6, 0, 6) (6, 0, 7) (6, 1, 0) (6, 1, 1) (6, 1, 2) (6, 1, 3) (6, 1, 4) (6, 1, 5) (6, 1, 6) (6, 1, 7) (6, 2, 0) (6, 2, 1) (6, 2, 2) (6, 2, 3) (6, 2, 4) (6, 2, 5) (6, 2, 6) (6, 2, 7) (6, 3, 0) (6, 3, 1) (6, 3, 2) (6, 3, 3) (6, 3, 4) (6, 3, 5) (6, 3, 6) (6, 3, 7) (6, 4, 0) (6, 4, 1) (6, 4, 2) (6, 4, 3) (6, 4, 4) (6, 4, 5) (6, 4, 6) (6, 4, 7) (6, 5, 0) (6, 5, 1) (6, 5, 2) (6, 5, 3) (6, 5, 4) (6, 5, 5) (6, 5, 6) (6, 5, 7) (6, 6, 0) (6, 6, 1) (6, 6, 2) (6, 6, 3) (6, 6, 4) (6, 6, 5) (6, 6, 6) (6, 6, 7) (6, 7, 0) (6, 7, 1) (6, 7, 2) (6, 7, 3) (6, 7, 4) (6, 7, 5) (6, 7, 6) (6, 7, 7) (7, 0, 0) (7, 0, 1) (7, 0, 2) (7, 0, 3) (7, 0, 4) (7, 0, 5) (7, 0, 6) (7, 0, 7) (7, 1, 0) (7, 1, 1) (7, 1, 2) (7, 1, 3) (7, 1, 4) (7, 1, 5) (7, 1, 6) (7, 1, 7) (7, 2, 0) (7, 2, 1) (7, 2, 2) (7, 2, 3) (7, 2, 4) (7, 2, 5) (7, 2, 6) (7, 2, 7) (7, 3, 0) (7, 3, 1) (7, 3, 2) (7, 3, 3) (7, 3, 4) (7, 3, 5) (7, 3, 6) (7, 3, 7) (7, 4, 0) (7, 4, 1) (7, 4, 2) (7, 4, 3) (7, 4, 4) (7, 4, 5) (7, 4, 6) (7, 4, 7) (7, 5, 0) (7, 5, 1) (7, 5, 2) (7, 5, 3) (7, 5, 4) (7, 5, 5) (7, 5, 6) (7, 5, 7) (7, 6, 0) (7, 6, 1) (7, 6, 2) (7, 6, 3) (7, 6, 4) (7, 6, 5) (7, 6, 6) (7, 6, 7) (7, 7, 0) (7, 7, 1) (7, 7, 2) (7, 7, 3) (7, 7, 4) (7, 7, 5) (7, 7, 6) (7, 7, 7) "
     ]
    }
   ],
   "source": [
    "from itertools import product\n",
    "numbers = [0, 1, 2, 3, 4, 5, 6, 7]\n",
    "characters = ['a', 'b', 'c', 'd', 'e']\n",
    "\n",
    "for num in product(numbers, characters):\n",
    "    print(num, end=' ')\n",
    "\n",
    "print(\"\\n\\nproduct with self\\n\")    \n",
    "\n",
    "for num in product(numbers, repeat=2):\n",
    "    print(num, end=' ')\n",
    "\n",
    "print('\\n')\n",
    "for num in product(numbers, repeat=3):\n",
    "    print(num, end=' ')"
   ]
  },
  {
   "cell_type": "markdown",
   "id": "29dcd859",
   "metadata": {},
   "source": [
    "# Session 6: Mutability\n",
    "\n",
    "Mutable means \"liable to change\".\n",
    "Thus Mutability will mean the tendency to change.\n",
    "\n",
    "python memory save list from [-5, 256]. why?\n",
    "\n",
    "if we write in py file\n",
    "a = 1000\n",
    "b = 1000\n",
    "a is b -> this will be true because python interpreter optimises global scope\n",
    "\n",
    "also in terminal if we write both statement in one line it will be true because python interpretes in single go\n",
    "\n",
    "# Modules\n",
    "\n",
    "# Packages\n",
    "\n",
    "# OOP"
   ]
  },
  {
   "cell_type": "markdown",
   "id": "56fa1657",
   "metadata": {},
   "source": [
    "Start learning SQL if you are done with your current tasks.\n",
    "\n",
    "Here are some links you can refer,\n",
    "https://mode.com/sql-tutorial/\n",
    "https://www.w3schools.com/sql/\n",
    "\n",
    "Hackerrank have various set of questions related to SQL, so try to solve them to test your knowledge.\n",
    "https://www.hackerrank.com/domains/sql"
   ]
  },
  {
   "cell_type": "code",
   "execution_count": null,
   "id": "0839d753",
   "metadata": {},
   "outputs": [],
   "source": []
  }
 ],
 "metadata": {
  "kernelspec": {
   "display_name": "Python 3 (ipykernel)",
   "language": "python",
   "name": "python3"
  },
  "language_info": {
   "codemirror_mode": {
    "name": "ipython",
    "version": 3
   },
   "file_extension": ".py",
   "mimetype": "text/x-python",
   "name": "python",
   "nbconvert_exporter": "python",
   "pygments_lexer": "ipython3",
   "version": "3.8.10"
  }
 },
 "nbformat": 4,
 "nbformat_minor": 5
}
