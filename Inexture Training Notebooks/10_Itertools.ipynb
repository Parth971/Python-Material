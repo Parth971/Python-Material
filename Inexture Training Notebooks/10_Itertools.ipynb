{
 "cells": [
  {
   "cell_type": "markdown",
   "metadata": {
    "id": "vFM5zmsCpVO3"
   },
   "source": [
    "# What are itertools"
   ]
  },
  {
   "cell_type": "markdown",
   "metadata": {
    "id": "zZgwUOYdpVO9"
   },
   "source": [
    "- The itertools module includes a set of functions for working with sequence data sets.\n",
    "- Iterator-based code offers better memory consumption characteristics than code that uses lists (or other iterables).\n",
    "- Since data is not produced from the iterator until it is needed, all of the data does not need to be stored in memory at the same time\n",
    "- This “lazy” processing model can reduce swapping and other side-effects of large data sets, improving performance."
   ]
  },
  {
   "cell_type": "code",
   "execution_count": null,
   "metadata": {
    "id": "bZXLiftWpVO_"
   },
   "outputs": [],
   "source": [
    "from itertools import *  # you should only import functions that you need in practice."
   ]
  },
  {
   "cell_type": "markdown",
   "metadata": {
    "id": "YtAgBeQapVPB"
   },
   "source": [
    "# Merging and Splitting Iterators"
   ]
  },
  {
   "cell_type": "markdown",
   "metadata": {
    "heading_collapsed": true,
    "id": "lhITgHGUpVPB"
   },
   "source": [
    "## chain()"
   ]
  },
  {
   "cell_type": "markdown",
   "metadata": {
    "hidden": true,
    "id": "PldmEB2RpVPC"
   },
   "source": [
    "- It __combines__ the sequences.\n",
    "\n",
    "__Use case:__\n",
    "\n",
    "- When you have more than one large iterables that needs to be combined and processed."
   ]
  },
  {
   "cell_type": "code",
   "execution_count": null,
   "metadata": {
    "hidden": true,
    "id": "Y4_8dT64pVPC",
    "outputId": "7f248935-85a9-4e81-817e-ea09a6a5c7f9"
   },
   "outputs": [
    {
     "name": "stdout",
     "output_type": "stream",
     "text": [
      "TYPE: <class 'itertools.chain'>\n",
      "Calling next: 1\n",
      "Calling next: 2\n",
      "Calling next: 3\n",
      "Calling next: a\n"
     ]
    }
   ],
   "source": [
    "# what does chain return\n",
    "\n",
    "numbers = [1, 2, 3]\n",
    "characters = ['a', 'b', 'c']\n",
    "\n",
    "\n",
    "chained_iterables = chain(numbers, characters)\n",
    "\n",
    "print(f\"TYPE: {type(chained_iterables)}\")\n",
    "\n",
    "print(f\"Calling next: {next(chained_iterables)}\")\n",
    "print(f\"Calling next: {next(chained_iterables)}\")\n",
    "print(f\"Calling next: {next(chained_iterables)}\")\n",
    "print(f\"Calling next: {next(chained_iterables)}\")"
   ]
  },
  {
   "cell_type": "code",
   "execution_count": null,
   "metadata": {
    "hidden": true,
    "id": "kGBxjsKrpVPE",
    "outputId": "8f4a44f4-5a5c-4802-c066-910bb4fb99d9"
   },
   "outputs": [
    {
     "name": "stdout",
     "output_type": "stream",
     "text": [
      "1 2 3 a b c "
     ]
    }
   ],
   "source": [
    "for i in chain(numbers, characters):\n",
    "    print(i, end=' ')"
   ]
  },
  {
   "cell_type": "markdown",
   "metadata": {
    "heading_collapsed": true,
    "id": "noEW4Su-pVPF"
   },
   "source": [
    "## chain.from_iterable"
   ]
  },
  {
   "cell_type": "markdown",
   "metadata": {
    "hidden": true,
    "id": "kgv3a_DRpVPG"
   },
   "source": [
    "- What if we want to combine two iterables that are not known in advance\n",
    "- Or we want to evaluate this iterables __lazily__\n",
    "\n",
    "__Use case:__\n",
    "\n",
    "- Create a lazy chain or unknown iterable chain."
   ]
  },
  {
   "cell_type": "code",
   "execution_count": null,
   "metadata": {
    "hidden": true,
    "id": "-t17KK2lpVPH"
   },
   "outputs": [],
   "source": [
    "\"\"\" \n",
    "\n",
    "let's say we have a business logic and that produces the iterables that we do not know in advance\n",
    "below genrator creates two lists \n",
    "one with odd numbers less than 50 and \n",
    "another with even numbers greater or equal to 50\n",
    "\n",
    "\"\"\"\n",
    "\n",
    "def make_iterables_to_chain():\n",
    "    \n",
    "    num_odd_lt_50 = []\n",
    "    num_even_gt_50 = []\n",
    "    \n",
    "    for num in range(100):\n",
    "        if num%2 and num < 50:\n",
    "            num_odd_lt_50.append(num)\n",
    "        elif num >= 50 and not num%2:\n",
    "            num_even_gt_50.append(num)\n",
    "    \n",
    "    yield num_odd_lt_50\n",
    "    \n",
    "    yield num_even_gt_50"
   ]
  },
  {
   "cell_type": "code",
   "execution_count": null,
   "metadata": {
    "hidden": true,
    "id": "wsLG_BuHpVPI",
    "outputId": "317a7ec8-9c35-4c3b-d391-2366f1949c39"
   },
   "outputs": [
    {
     "name": "stdout",
     "output_type": "stream",
     "text": [
      "TYPE: <class 'itertools.chain'>\n",
      "Calling next: 1\n",
      "Calling next: 3\n",
      "Calling next: 5\n",
      "Calling next: 7\n"
     ]
    }
   ],
   "source": [
    "# what does chain.from_iterable return\n",
    "\n",
    "chained_iterables = chain.from_iterable(make_iterables_to_chain())\n",
    "\n",
    "print(f\"TYPE: {type(chained_iterables)}\")\n",
    "\n",
    "print(f\"Calling next: {next(chained_iterables)}\")\n",
    "print(f\"Calling next: {next(chained_iterables)}\")\n",
    "print(f\"Calling next: {next(chained_iterables)}\")\n",
    "print(f\"Calling next: {next(chained_iterables)}\")"
   ]
  },
  {
   "cell_type": "code",
   "execution_count": null,
   "metadata": {
    "hidden": true,
    "id": "ZH8Ws4oSpVPJ",
    "outputId": "6c85e3fe-5d06-4917-fc3e-39ff78d310e9"
   },
   "outputs": [
    {
     "name": "stdout",
     "output_type": "stream",
     "text": [
      "1 3 5 7 9 11 13 15 17 19 21 23 25 27 29 31 33 35 37 39 41 43 45 47 49 50 52 54 56 58 60 62 64 66 68 70 72 74 76 78 80 82 84 86 88 90 92 94 96 98 "
     ]
    }
   ],
   "source": [
    "for i in chain.from_iterable(make_iterables_to_chain()):\n",
    "    print(i, end=' ')"
   ]
  },
  {
   "cell_type": "markdown",
   "metadata": {
    "id": "zsh9qvg2pVPL"
   },
   "source": [
    "## zip()"
   ]
  },
  {
   "cell_type": "markdown",
   "metadata": {
    "id": "4y_Tbx1jpVPL"
   },
   "source": [
    "- Returns an iterator that combines the elements of several iterators into tuples.\n",
    "- zip is __infact a built in function and not part of itertools__ but let's have a look at it.\n",
    "- Too useful when you want to loop over two iterables simultaneously.\n",
    "- __zip() stops when the shortest input iterable is exhausted.__\n",
    "\n",
    "__Use case:__\n",
    "\n",
    "- To iterate over more than one iterables at same time with same size."
   ]
  },
  {
   "cell_type": "code",
   "execution_count": null,
   "metadata": {
    "id": "WtPrdlRzpVPO",
    "outputId": "7dbc2ce1-b22b-473c-f7e5-bf9c1574a423"
   },
   "outputs": [
    {
     "name": "stdout",
     "output_type": "stream",
     "text": [
      "TYPE: <class 'zip'>\n",
      "Calling next: (1, 'a')\n",
      "Calling next: (2, 'b')\n",
      "Calling next: (3, 'c')\n"
     ]
    }
   ],
   "source": [
    "numbers = [1, 2, 3]\n",
    "characters = ['a', 'b', 'c', 'd']\n",
    "\n",
    "zipped_iterables = zip(numbers, characters)\n",
    "\n",
    "print(f\"TYPE: {type(zipped_iterables)}\")\n",
    "\n",
    "print(f\"Calling next: {next(zipped_iterables)}\")\n",
    "print(f\"Calling next: {next(zipped_iterables)}\")\n",
    "print(f\"Calling next: {next(zipped_iterables)}\")"
   ]
  },
  {
   "cell_type": "code",
   "execution_count": null,
   "metadata": {
    "id": "dbULS3YNpVPP",
    "outputId": "1dcb55f5-de9c-4c4a-87e9-4b57d7ed43b7"
   },
   "outputs": [
    {
     "name": "stdout",
     "output_type": "stream",
     "text": [
      "num: 1, char: a\n",
      "num: 2, char: b\n",
      "num: 3, char: c\n"
     ]
    }
   ],
   "source": [
    "for num, char in zip(numbers, characters):\n",
    "    print(f\"num: {num}, char: {char}\")"
   ]
  },
  {
   "cell_type": "markdown",
   "metadata": {
    "heading_collapsed": true,
    "id": "dBWyqwGopVPP"
   },
   "source": [
    "## zip_longest()"
   ]
  },
  {
   "cell_type": "markdown",
   "metadata": {
    "hidden": true,
    "id": "n9P6mSlspVPP"
   },
   "source": [
    "- When we want to zip iterables that are of different sizes.\n",
    "- It uses __None__ as default to fill value of shorter iterable when it is exhausted.\n",
    "- However, we can specify another default if we wish.\n",
    "\n",
    "__Use case:__\n",
    "\n",
    "- To iterate over more than one different sized iterables."
   ]
  },
  {
   "cell_type": "code",
   "execution_count": null,
   "metadata": {
    "hidden": true,
    "id": "TepcfKVApVPQ",
    "outputId": "2ee69894-8e50-48e5-f0d3-f3fbadcff2ce"
   },
   "outputs": [
    {
     "name": "stdout",
     "output_type": "stream",
     "text": [
      "TYPE: <class 'itertools.zip_longest'>\n",
      "Calling next: (1, 'a')\n",
      "Calling next: (2, 'b')\n",
      "Calling next: (3, 'c')\n",
      "Calling next: (None, 'd')\n"
     ]
    }
   ],
   "source": [
    "numbers = [1, 2, 3]\n",
    "characters = ['a', 'b', 'c', 'd']\n",
    "\n",
    "zipped_iterables = zip_longest(numbers, characters)\n",
    "\n",
    "print(f\"TYPE: {type(zipped_iterables)}\")\n",
    "\n",
    "print(f\"Calling next: {next(zipped_iterables)}\")\n",
    "print(f\"Calling next: {next(zipped_iterables)}\")\n",
    "print(f\"Calling next: {next(zipped_iterables)}\")\n",
    "print(f\"Calling next: {next(zipped_iterables)}\")"
   ]
  },
  {
   "cell_type": "code",
   "execution_count": null,
   "metadata": {
    "hidden": true,
    "id": "QKImR0LzpVPR",
    "outputId": "634dc599-a542-4e4a-f033-4d3084914bf7"
   },
   "outputs": [
    {
     "name": "stdout",
     "output_type": "stream",
     "text": [
      "num: 1, char: a\n",
      "num: 2, char: b\n",
      "num: 3, char: c\n",
      "num: 0, char: d\n"
     ]
    }
   ],
   "source": [
    "for num, char in zip_longest(numbers, characters, fillvalue=0):\n",
    "    print(f\"num: {num}, char: {char}\")"
   ]
  },
  {
   "cell_type": "markdown",
   "metadata": {
    "heading_collapsed": true,
    "id": "dDqFybZepVPS"
   },
   "source": [
    "## islice()"
   ]
  },
  {
   "cell_type": "markdown",
   "metadata": {
    "hidden": true,
    "id": "D1Okf5VcpVPT"
   },
   "source": [
    "- Returns an iterator which returns selected items from the input iterator, by index.\n",
    "- __first__ argument is __iterable__,\n",
    "- __second__ argument is __last index__ if no other arguments are given,\n",
    "- if __three arguments__ are given then __second is starting__ index and __third is ending__ index,\n",
    "- if __four arguments__ are given then __second is starting__ index, __third is ending__ index and __fourth is steps__ to take.\n",
    "\n",
    "__Use case:__\n",
    "\n",
    "- Slicing any iterable you need."
   ]
  },
  {
   "cell_type": "code",
   "execution_count": null,
   "metadata": {
    "hidden": true,
    "id": "yNpr_WtnpVPT",
    "outputId": "e85f5823-97fc-4e88-e9b8-3e6da4295702"
   },
   "outputs": [
    {
     "name": "stdout",
     "output_type": "stream",
     "text": [
      "First 5 items of the dict:\n",
      "\n",
      "TYPE: <class 'itertools.islice'>\n",
      "Calling next: a\n",
      "Calling next: b\n",
      "Calling next: c\n",
      "Calling next: d\n",
      "\n",
      "From 5th index to 9th index:\n",
      "\n",
      "TYPE: <class 'itertools.islice'>\n",
      "Calling next: f\n",
      "Calling next: g\n",
      "Calling next: h\n",
      "Calling next: i\n",
      "Calling next: j\n",
      "\n",
      "Taking 2 steps at a time:\n",
      "\n",
      "TYPE: <class 'itertools.islice'>\n",
      "Calling next: a\n",
      "Calling next: c\n",
      "Calling next: e\n",
      "Calling next: g\n"
     ]
    }
   ],
   "source": [
    "a_dict = {'a': 0, 'b': 1, 'c': 2, 'd': 3, 'e': 4, 'f': 5, 'g': 6, 'h': 7, 'i': 8, 'j': 9}\n",
    "\n",
    "\n",
    "print(\"First 5 items of the dict:\\n\")\n",
    "\n",
    "sliced_dict = islice(a_dict, 5)\n",
    "\n",
    "print(f\"TYPE: {type(sliced_dict)}\")\n",
    "\n",
    "print(f\"Calling next: {next(sliced_dict)}\")\n",
    "print(f\"Calling next: {next(sliced_dict)}\")\n",
    "print(f\"Calling next: {next(sliced_dict)}\")\n",
    "print(f\"Calling next: {next(sliced_dict)}\")\n",
    "\n",
    "print(\"\\nFrom 5th index to 9th index:\\n\")\n",
    "\n",
    "sliced_dict = islice(a_dict, 5, 10)\n",
    "\n",
    "print(f\"TYPE: {type(sliced_dict)}\")\n",
    "\n",
    "print(f\"Calling next: {next(sliced_dict)}\")\n",
    "print(f\"Calling next: {next(sliced_dict)}\")\n",
    "print(f\"Calling next: {next(sliced_dict)}\")\n",
    "print(f\"Calling next: {next(sliced_dict)}\")\n",
    "print(f\"Calling next: {next(sliced_dict)}\")\n",
    "\n",
    "print(\"\\nTaking 2 steps at a time:\\n\")\n",
    "\n",
    "sliced_dict = islice(a_dict, 0, 11, 2)\n",
    "\n",
    "print(f\"TYPE: {type(sliced_dict)}\")\n",
    "\n",
    "print(f\"Calling next: {next(sliced_dict)}\")\n",
    "print(f\"Calling next: {next(sliced_dict)}\")\n",
    "print(f\"Calling next: {next(sliced_dict)}\")\n",
    "print(f\"Calling next: {next(sliced_dict)}\")"
   ]
  },
  {
   "cell_type": "code",
   "execution_count": null,
   "metadata": {
    "hidden": true,
    "id": "wOxUnz-ppVPU",
    "outputId": "27d863e1-f0b5-43df-b854-5df85cd20388"
   },
   "outputs": [
    {
     "name": "stdout",
     "output_type": "stream",
     "text": [
      "First 5 items of the dict:\n",
      "\n",
      "TYPE: <class 'itertools.islice'>\n",
      "a b c d e \n",
      "\n",
      "From 5th index to 9th index:\n",
      "\n",
      "TYPE: <class 'itertools.islice'>\n",
      "f g h i j \n",
      "\n",
      "Taking 2 steps at a time:\n",
      "\n",
      "TYPE: <class 'itertools.islice'>\n",
      "a c e g i "
     ]
    }
   ],
   "source": [
    "print(\"First 5 items of the dict:\\n\")\n",
    "\n",
    "sliced_dict = islice(a_dict, 5)\n",
    "\n",
    "print(f\"TYPE: {type(sliced_dict)}\")\n",
    "\n",
    "for item in sliced_dict:\n",
    "    print(item, end=' ')\n",
    "\n",
    "print(\"\\n\\nFrom 5th index to 9th index:\\n\")\n",
    "\n",
    "sliced_dict = islice(a_dict, 5, 10)\n",
    "\n",
    "print(f\"TYPE: {type(sliced_dict)}\")\n",
    "\n",
    "for item in sliced_dict:\n",
    "    print(item, end=' ')\n",
    "\n",
    "print(\"\\n\\nTaking 2 steps at a time:\\n\")\n",
    "\n",
    "sliced_dict = islice(a_dict, 0, 11, 2)\n",
    "\n",
    "print(f\"TYPE: {type(sliced_dict)}\")\n",
    "\n",
    "for item in sliced_dict:\n",
    "    print(item, end=' ')"
   ]
  },
  {
   "cell_type": "markdown",
   "metadata": {
    "heading_collapsed": true,
    "id": "0AFqBYiopVPU"
   },
   "source": [
    "## tee()"
   ]
  },
  {
   "cell_type": "markdown",
   "metadata": {
    "hidden": true,
    "id": "1ved5CiFpVPV"
   },
   "source": [
    "- returns several __independent__ iterators __(defaults to 2)__ based on a single original input.\n",
    "\n",
    "__Use case:__\n",
    "\n",
    "- The iterators returned by tee() can be used to feed the same set of data into multiple algorithms to be processed in parallel."
   ]
  },
  {
   "cell_type": "code",
   "execution_count": null,
   "metadata": {
    "hidden": true,
    "id": "ObUUEpZzpVPV",
    "outputId": "133e3f5e-5b7f-424f-9cb1-70219da8c2bd"
   },
   "outputs": [
    {
     "name": "stdout",
     "output_type": "stream",
     "text": [
      "TYPE: <class 'str'>\n",
      "Calling next: P\n",
      "Calling next: y\n",
      "Calling next: t\n",
      "Calling next: h\n",
      "Calling next: P\n",
      "Calling next: y\n",
      "Calling next: t\n",
      "Calling next: h\n",
      "\n",
      "Using the same tee1 iterator in loop now: o n \n",
      "Using the same tee2 iterator in loop now: o n \n",
      "Using the tee3 iterator in loop now: P y t h o n "
     ]
    }
   ],
   "source": [
    "a_string = \"Python\"\n",
    "\n",
    "tee1, tee2, tee3 = tee(a_string, 3)\n",
    "\n",
    "print(f\"TYPE: {type(a_string)}\")\n",
    "\n",
    "print(f\"Calling next: {next(tee1)}\")\n",
    "print(f\"Calling next: {next(tee1)}\")\n",
    "print(f\"Calling next: {next(tee1)}\")\n",
    "print(f\"Calling next: {next(tee1)}\")\n",
    "\n",
    "print(f\"Calling next: {next(tee2)}\")\n",
    "print(f\"Calling next: {next(tee2)}\")\n",
    "print(f\"Calling next: {next(tee2)}\")\n",
    "print(f\"Calling next: {next(tee2)}\")\n",
    "\n",
    "print(\"\\nUsing the same tee1 iterator in loop now: \", end='')\n",
    "for char in tee1:\n",
    "    print(char, end=' ')\n",
    "    \n",
    "print(\"\\nUsing the same tee2 iterator in loop now: \", end='')\n",
    "for char in tee2:\n",
    "    print(char, end=' ')\n",
    "    \n",
    "print(\"\\nUsing the tee3 iterator in loop now: \", end='')\n",
    "for char in tee3:\n",
    "    print(char, end=' ')"
   ]
  },
  {
   "cell_type": "markdown",
   "metadata": {
    "heading_collapsed": true,
    "id": "dxlfEQXgpVPW"
   },
   "source": [
    "# Converting Inputs"
   ]
  },
  {
   "cell_type": "markdown",
   "metadata": {
    "heading_collapsed": true,
    "hidden": true,
    "id": "08p_S1ZSpVPW"
   },
   "source": [
    "## map()"
   ]
  },
  {
   "cell_type": "markdown",
   "metadata": {
    "hidden": true,
    "id": "eyIxwKK9pVPW"
   },
   "source": [
    "- Returns an iterator that calls a function on the values in the input iterators.\n",
    "- and returns the results\n",
    "- It stops when any input iterator is exhausted.\n",
    "\n",
    "__Use case:__\n",
    "\n",
    "- Doing some operation on all the elements of an iterable."
   ]
  },
  {
   "cell_type": "code",
   "execution_count": null,
   "metadata": {
    "hidden": true,
    "id": "CQSd8hECpVPW",
    "outputId": "1903c510-aa74-4f0a-805f-5ded104da438"
   },
   "outputs": [
    {
     "name": "stdout",
     "output_type": "stream",
     "text": [
      "TYPE: <class 'map'>\n",
      "Calling next: 2\n",
      "Calling next: 4\n",
      "Calling next: 6\n",
      "Calling next: 8\n",
      "\n",
      "TYPE: <class 'map'>\n",
      "1 * 10 = 10\n",
      "2 * 9 = 18\n",
      "3 * 8 = 24\n",
      "4 * 7 = 28\n",
      "5 * 6 = 30\n",
      "6 * 5 = 30\n",
      "7 * 4 = 28\n",
      "8 * 3 = 24\n",
      "9 * 2 = 18\n",
      "10 * 1 = 10\n"
     ]
    }
   ],
   "source": [
    "def times_two(x):\n",
    "    return 2 * x\n",
    "\n",
    "\n",
    "def multiply(x, y):\n",
    "    return (x, y, x * y)\n",
    "\n",
    "numbers = [1, 2, 3, 4, 5, 6, 7, 8, 9, 10]\n",
    "numbers_reverse = [10, 9, 8, 7, 6, 5, 4, 3, 2, 1]\n",
    "\n",
    "doubles = map(times_two, numbers)\n",
    "\n",
    "print(f\"TYPE: {type(doubles)}\")\n",
    "\n",
    "print(f\"Calling next: {next(doubles)}\")\n",
    "print(f\"Calling next: {next(doubles)}\")\n",
    "print(f\"Calling next: {next(doubles)}\")\n",
    "print(f\"Calling next: {next(doubles)}\")\n",
    "\n",
    "multiplied_iterables = map(multiply, numbers, numbers_reverse)\n",
    "\n",
    "print(f\"\\nTYPE: {type(multiplied_iterables)}\")\n",
    "\n",
    "for item in multiplied_iterables:\n",
    "    print(f\"{item[0]} * {item[1]} = {item[2]}\")"
   ]
  },
  {
   "cell_type": "markdown",
   "metadata": {
    "heading_collapsed": true,
    "hidden": true,
    "id": "jZ9JMffUpVPX"
   },
   "source": [
    "## starmap()"
   ]
  },
  {
   "cell_type": "markdown",
   "metadata": {
    "hidden": true,
    "id": "ivN2DYm_pVPX"
   },
   "source": [
    "- The functionality is same as map.\n",
    "- But instead of constructing a tuple from multiple iterators, it splits up the items in a single iterator as arguments to the mapping function using the * syntax.\n",
    "\n",
    "- Read more __[here](https://docs.python.org/2/library/itertools.html#itertools.starmap)__"
   ]
  },
  {
   "cell_type": "markdown",
   "metadata": {
    "id": "JdO4D2jgpVPX"
   },
   "source": [
    "# Producing New Values"
   ]
  },
  {
   "cell_type": "markdown",
   "metadata": {
    "heading_collapsed": true,
    "id": "BYCmQsYUpVPY"
   },
   "source": [
    "## count()"
   ]
  },
  {
   "cell_type": "markdown",
   "metadata": {
    "hidden": true,
    "id": "4ZZdHidNpVPY"
   },
   "source": [
    "- Returns an iterator that produces consecutive integers, indefinitely.\n",
    "- The first number can be passed as an argument (the default is zero).\n",
    "- There is __no upper bound__ argument.\n",
    "\n",
    "__Use case:__\n",
    "\n",
    "- To get index with some unindexed iterables.\n",
    "- Count items in an iterable."
   ]
  },
  {
   "cell_type": "code",
   "execution_count": null,
   "metadata": {
    "hidden": true,
    "id": "p9ZByI-ypVPY",
    "outputId": "0ebd5a1a-5964-40d5-843b-5c8af28ee3fc"
   },
   "outputs": [
    {
     "name": "stdout",
     "output_type": "stream",
     "text": [
      "TYPE: <class 'itertools.count'>\n",
      "Calling next: 0\n",
      "Calling next: 1\n",
      "Calling next: 2\n",
      "Calling next: 3\n",
      "\n",
      "Start with 5 instead of 0\n",
      "\n",
      "Calling next: 5\n",
      "Calling next: 6\n",
      "Calling next: 7\n",
      "Calling next: 8\n",
      "Calling next: 9\n",
      "\n",
      "Start with 5 instead of 0 and take 5 steps\n",
      "\n",
      "Calling next: 5\n",
      "Calling next: 10\n",
      "Calling next: 15\n",
      "Calling next: 20\n",
      "Calling next: 25\n",
      "\n",
      "Iterating over a counter\n",
      "\n",
      "0 1 2 3 4 5 6 7 8 9 10 11 12 13 14 15 16 17 18 19 20 21 22 23 24 25 26 27 28 29 30 31 32 33 34 35 36 37 38 39 40 41 42 43 44 45 46 47 48 49 50 51 52 53 54 55 56 57 58 59 60 61 62 63 64 65 66 67 68 69 70 71 72 73 74 75 76 77 78 79 80 81 82 83 84 85 86 87 88 89 90 91 92 93 94 95 96 97 98 99 100 \n",
      "\n"
     ]
    }
   ],
   "source": [
    "counter = count()\n",
    "\n",
    "print(f\"TYPE: {type(counter)}\")\n",
    "\n",
    "print(f\"Calling next: {next(counter)}\")\n",
    "print(f\"Calling next: {next(counter)}\")\n",
    "print(f\"Calling next: {next(counter)}\")\n",
    "print(f\"Calling next: {next(counter)}\")\n",
    "\n",
    "print(\"\\nStart with 5 instead of 0\\n\")\n",
    "\n",
    "counter = count(5)\n",
    "print(f\"Calling next: {next(counter)}\")\n",
    "print(f\"Calling next: {next(counter)}\")\n",
    "print(f\"Calling next: {next(counter)}\")\n",
    "print(f\"Calling next: {next(counter)}\")\n",
    "print(f\"Calling next: {next(counter)}\")\n",
    "\n",
    "print(\"\\nStart with 5 instead of 0 and take 5 steps\\n\")\n",
    "\n",
    "counter = count(5, 5)  # steps can be any numeric value including decimals and negatives.\n",
    "print(f\"Calling next: {next(counter)}\")\n",
    "print(f\"Calling next: {next(counter)}\")\n",
    "print(f\"Calling next: {next(counter)}\")\n",
    "print(f\"Calling next: {next(counter)}\")\n",
    "print(f\"Calling next: {next(counter)}\")\n",
    "\n",
    "\n",
    "print(\"\\nIterating over a counter\\n\")\n",
    "\n",
    "counter = count()\n",
    "\n",
    "for item in counter:\n",
    "    if item > 100:\n",
    "        break  # if we do not break it keeps running until ram is overflowed.\n",
    "    print(item, end=' ')\n",
    "\n",
    "print('\\n')"
   ]
  },
  {
   "cell_type": "markdown",
   "metadata": {
    "heading_collapsed": true,
    "id": "fWMA3KL2pVPZ"
   },
   "source": [
    "## cycle()"
   ]
  },
  {
   "cell_type": "markdown",
   "metadata": {
    "hidden": true,
    "id": "1p1A3px-pVPZ"
   },
   "source": [
    "- Returns an iterator that repeats the contents of the arguments it is given indefinitely.\n",
    "- Since it has to remember the entire contents of the input iterator, __it may consume quite a bit of memory if the iterator is long.__"
   ]
  },
  {
   "cell_type": "code",
   "execution_count": null,
   "metadata": {
    "hidden": true,
    "id": "Z1sAKASApVPZ",
    "outputId": "f67a633a-d19d-44a8-d6dd-f20e5b11cdd0"
   },
   "outputs": [
    {
     "name": "stdout",
     "output_type": "stream",
     "text": [
      "(0, 'a')\n",
      "(1, 'b')\n",
      "(2, 'c')\n",
      "(3, 'a')\n",
      "(4, 'b')\n",
      "(5, 'c')\n",
      "(6, 'a')\n"
     ]
    }
   ],
   "source": [
    "for i in zip(range(7), cycle(['a', 'b', 'c'])):\n",
    "    print(i)"
   ]
  },
  {
   "cell_type": "markdown",
   "metadata": {
    "id": "EGzBB1_dpVPa"
   },
   "source": [
    "## repeat()"
   ]
  },
  {
   "cell_type": "markdown",
   "metadata": {
    "id": "wHyImsMhpVPa"
   },
   "source": [
    "- The iterator returned by repeat() keeps returning data __forever.__\n",
    "- unless the optional __times argument__ is provided to limit it."
   ]
  },
  {
   "cell_type": "code",
   "execution_count": null,
   "metadata": {
    "id": "179q0l1rpVPa",
    "outputId": "09edafae-2ba6-47e6-e707-7140dd1ec853"
   },
   "outputs": [
    {
     "name": "stdout",
     "output_type": "stream",
     "text": [
      "[1, 2, 3]\n",
      "[1, 2, 3]\n",
      "[1, 2, 3]\n",
      "[1, 2, 3]\n",
      "[1, 2, 3]\n",
      "2 * 0 = 0\n",
      "2 * 1 = 2\n",
      "2 * 2 = 4\n",
      "2 * 3 = 6\n",
      "2 * 4 = 8\n"
     ]
    }
   ],
   "source": [
    "for i in repeat([1,2,3], 5):\n",
    "    print(i)\n",
    "    \n",
    "for i in map(lambda x, y: (x, y, x * y), repeat(2), range(5)):\n",
    "    print('{:d} * {:d} = {:d}'.format(i[0], i[1], i[2]))"
   ]
  },
  {
   "cell_type": "markdown",
   "metadata": {
    "heading_collapsed": true,
    "id": "nYGCX3dMpVPb"
   },
   "source": [
    "# Filtering"
   ]
  },
  {
   "cell_type": "markdown",
   "metadata": {
    "heading_collapsed": true,
    "hidden": true,
    "id": "J6jv8aJPpVPb"
   },
   "source": [
    "## dropwhile()"
   ]
  },
  {
   "cell_type": "markdown",
   "metadata": {
    "hidden": true,
    "id": "OdRsPfy8pVPb"
   },
   "source": [
    "- Returns an iterator that produces elements of the input iterator after a condition becomes false for the first time.\n",
    "- In simple words skip the elements until condition becomes false and take everything after that.\n",
    "- After the condition is false the first time, all of the remaining items in the input are returned."
   ]
  },
  {
   "cell_type": "code",
   "execution_count": null,
   "metadata": {
    "hidden": true,
    "id": "Ipyybk-ypVPb",
    "outputId": "d0c47fa8-95ef-4256-f102-c5e00e9ff603"
   },
   "outputs": [
    {
     "name": "stdout",
     "output_type": "stream",
     "text": [
      "1 2 -2 "
     ]
    }
   ],
   "source": [
    "def should_drop(x):\n",
    "    return x < 1\n",
    "\n",
    "\n",
    "for i in dropwhile(should_drop, [-1, 0, 1, 2, -2]):\n",
    "    print(i, end=' ')"
   ]
  },
  {
   "cell_type": "markdown",
   "metadata": {
    "heading_collapsed": true,
    "hidden": true,
    "id": "ha5a6cCipVPc"
   },
   "source": [
    "## takewhile()"
   ]
  },
  {
   "cell_type": "markdown",
   "metadata": {
    "hidden": true,
    "id": "aLZ1OIpHpVPc"
   },
   "source": [
    "- The opposite of dropwhile().\n",
    "- It returns an iterator that returns items from the input iterator as long as the test function returns true.\n",
    "- As soon as should_take() returns False, takewhile() stops processing the input."
   ]
  },
  {
   "cell_type": "code",
   "execution_count": null,
   "metadata": {
    "hidden": true,
    "id": "47iu-fZepVPc",
    "outputId": "45c6e625-7988-4967-b09c-efe8642cdfa4"
   },
   "outputs": [
    {
     "name": "stdout",
     "output_type": "stream",
     "text": [
      "-1 0 "
     ]
    }
   ],
   "source": [
    "def should_drop(x):\n",
    "    return x < 1\n",
    "\n",
    "\n",
    "for i in takewhile(should_drop, [-1, 0, 1, 2, -2]):\n",
    "    print(i, end=' ')"
   ]
  },
  {
   "cell_type": "markdown",
   "metadata": {
    "heading_collapsed": true,
    "hidden": true,
    "id": "-E9ZiRUzpVPd"
   },
   "source": [
    "## filter()"
   ]
  },
  {
   "cell_type": "markdown",
   "metadata": {
    "hidden": true,
    "id": "jWtIyzU6pVPd"
   },
   "source": [
    "- Returns an iterator that includes only items for which the test function returns true.\n",
    "- filter() is different from dropwhile() and takewhile() in that every item is tested before it is returned."
   ]
  },
  {
   "cell_type": "code",
   "execution_count": null,
   "metadata": {
    "hidden": true,
    "id": "civIcbF1pVPd",
    "outputId": "abfd7f3b-baf2-49d8-981b-7e2b8be0bc88"
   },
   "outputs": [
    {
     "name": "stdout",
     "output_type": "stream",
     "text": [
      "-1 0 -2 "
     ]
    }
   ],
   "source": [
    "def check_item(x):\n",
    "    return x < 1\n",
    "\n",
    "\n",
    "for i in filter(check_item, [-1, 0, 1, 2, -2]):\n",
    "    print(i, end=' ')"
   ]
  },
  {
   "cell_type": "markdown",
   "metadata": {
    "heading_collapsed": true,
    "hidden": true,
    "id": "4lipgosypVPd"
   },
   "source": [
    "## filterfalse()"
   ]
  },
  {
   "cell_type": "markdown",
   "metadata": {
    "hidden": true,
    "id": "ywKVY6gPpVPe"
   },
   "source": [
    "- Returns an iterator that includes only items where the test function returns false.\n",
    "- Opposite of filter"
   ]
  },
  {
   "cell_type": "code",
   "execution_count": null,
   "metadata": {
    "hidden": true,
    "id": "kiscAHNxpVPe",
    "outputId": "f0593ae6-f3b7-401e-c438-1374affc99da"
   },
   "outputs": [
    {
     "name": "stdout",
     "output_type": "stream",
     "text": [
      "1 2 "
     ]
    }
   ],
   "source": [
    "def check_item(x):\n",
    "    return x < 1\n",
    "\n",
    "\n",
    "for i in filterfalse(check_item, [-1, 0, 1, 2, -2]):\n",
    "    print(i, end=' ')"
   ]
  },
  {
   "cell_type": "markdown",
   "metadata": {
    "heading_collapsed": true,
    "hidden": true,
    "id": "Z1o3bo71pVPe"
   },
   "source": [
    "## compress()"
   ]
  },
  {
   "cell_type": "markdown",
   "metadata": {
    "hidden": true,
    "id": "IckPByw5pVPe"
   },
   "source": [
    "- Offers another way to filter the contents of an iterable.\n",
    "- Instead of calling a function, it uses the values in another iterable to indicate when to accept a value and when to ignore it."
   ]
  },
  {
   "cell_type": "code",
   "execution_count": null,
   "metadata": {
    "hidden": true,
    "id": "VTVXgseKpVPf",
    "outputId": "c881e1e9-fd5b-48bc-835b-989c8b8a873b"
   },
   "outputs": [
    {
     "name": "stdout",
     "output_type": "stream",
     "text": [
      "3 6 9 \n"
     ]
    }
   ],
   "source": [
    "every_third = cycle([False, False, True])\n",
    "data = range(1, 10)\n",
    "\n",
    "for i in compress(data, every_third):\n",
    "    print(i, end=' ')\n",
    "print()"
   ]
  },
  {
   "cell_type": "markdown",
   "metadata": {
    "id": "YjW9XfJOpVPf"
   },
   "source": [
    "# Grouping Data"
   ]
  },
  {
   "cell_type": "markdown",
   "metadata": {
    "id": "-YjvHWhHpVPf"
   },
   "source": [
    "## groupby()"
   ]
  },
  {
   "cell_type": "markdown",
   "metadata": {
    "id": "dmTNbgxgpVPf"
   },
   "source": [
    "- Returns an iterator that produces sets of values organized by a common key.\n",
    "- The input sequence __needs to be sorted on the key value__ in order for the groupings to work out as expected."
   ]
  },
  {
   "cell_type": "code",
   "execution_count": null,
   "metadata": {
    "id": "oxtCLUY7pVPg",
    "outputId": "9b01c087-b677-4696-e8f0-33302e30836d"
   },
   "outputs": [
    {
     "name": "stdout",
     "output_type": "stream",
     "text": [
      "animal:\n",
      "bear\n",
      "duck\n",
      "\n",
      "plant:\n",
      "cactus\n",
      "\n",
      "vehicle:\n",
      "speed boat\n",
      "school bus\n",
      "\n"
     ]
    }
   ],
   "source": [
    "def key_to_use(item_tuple):\n",
    "    return item_tuple[0]\n",
    "\n",
    "things = [(\"animal\", \"bear\"), (\"animal\", \"duck\"), \n",
    "          (\"plant\", \"cactus\"), (\"vehicle\", \"speed boat\"), \n",
    "          (\"vehicle\", \"school bus\")]\n",
    "\n",
    "for key, group in groupby(things, key_to_use):\n",
    "    print(f\"{key}:\")\n",
    "    for thing in group:\n",
    "        print(f\"{thing[1]}\")\n",
    "    print()"
   ]
  },
  {
   "cell_type": "markdown",
   "metadata": {
    "id": "MnjRAsQFpVPg"
   },
   "source": [
    "# Combining Inputs"
   ]
  },
  {
   "cell_type": "markdown",
   "metadata": {
    "id": "835o6efipVPg"
   },
   "source": [
    "## accumulate()"
   ]
  },
  {
   "cell_type": "markdown",
   "metadata": {
    "id": "i_O-hoRBpVPh"
   },
   "source": [
    "- Takes nth and nth + 1 elements of input and produces output based on given function.\n",
    "- Default function is add.\n",
    "- When used with a sequence of non-integer values, the results depend on what it means to “add” two items together."
   ]
  },
  {
   "cell_type": "code",
   "execution_count": null,
   "metadata": {
    "id": "5HpdLXn8pVPh",
    "outputId": "e58571b2-2f59-4681-ab17-382d43bbcc71"
   },
   "outputs": [
    {
     "name": "stdout",
     "output_type": "stream",
     "text": [
      "0 1 3 6 10 15 21 28 \n",
      "a ab abc abcd abcde "
     ]
    }
   ],
   "source": [
    "numbers = [0, 1, 2, 3, 4, 5, 6, 7]\n",
    "characters = ['a', 'b', 'c', 'd', 'e']\n",
    "\n",
    "for num in accumulate(numbers):\n",
    "    print(num, end=' ')\n",
    "    \n",
    "print()\n",
    "    \n",
    "for string in accumulate(characters):\n",
    "    print(string, end=' ')"
   ]
  },
  {
   "cell_type": "markdown",
   "metadata": {
    "id": "zozWSvEppVPh"
   },
   "source": [
    "## product()"
   ]
  },
  {
   "cell_type": "markdown",
   "metadata": {
    "id": "N1t99FkHpVPi"
   },
   "source": [
    "- produces a single iterable whose values are the Cartesian product of the set of input values.\n",
    "- To compute the product of a sequence with itself, specify how many times the input should be repeated."
   ]
  },
  {
   "cell_type": "code",
   "execution_count": null,
   "metadata": {
    "id": "8ZZ2yy6OpVPi",
    "outputId": "70cb0d54-4177-419d-db3d-0a769a13ed18"
   },
   "outputs": [
    {
     "name": "stdout",
     "output_type": "stream",
     "text": [
      "(0, 'a') (0, 'b') (0, 'c') (0, 'd') (0, 'e') (1, 'a') (1, 'b') (1, 'c') (1, 'd') (1, 'e') (2, 'a') (2, 'b') (2, 'c') (2, 'd') (2, 'e') (3, 'a') (3, 'b') (3, 'c') (3, 'd') (3, 'e') (4, 'a') (4, 'b') (4, 'c') (4, 'd') (4, 'e') (5, 'a') (5, 'b') (5, 'c') (5, 'd') (5, 'e') (6, 'a') (6, 'b') (6, 'c') (6, 'd') (6, 'e') (7, 'a') (7, 'b') (7, 'c') (7, 'd') (7, 'e') \n",
      "\n",
      "product with self\n",
      "\n",
      "(0, 0) (0, 1) (0, 2) (0, 3) (0, 4) (0, 5) (0, 6) (0, 7) (1, 0) (1, 1) (1, 2) (1, 3) (1, 4) (1, 5) (1, 6) (1, 7) (2, 0) (2, 1) (2, 2) (2, 3) (2, 4) (2, 5) (2, 6) (2, 7) (3, 0) (3, 1) (3, 2) (3, 3) (3, 4) (3, 5) (3, 6) (3, 7) (4, 0) (4, 1) (4, 2) (4, 3) (4, 4) (4, 5) (4, 6) (4, 7) (5, 0) (5, 1) (5, 2) (5, 3) (5, 4) (5, 5) (5, 6) (5, 7) (6, 0) (6, 1) (6, 2) (6, 3) (6, 4) (6, 5) (6, 6) (6, 7) (7, 0) (7, 1) (7, 2) (7, 3) (7, 4) (7, 5) (7, 6) (7, 7) "
     ]
    }
   ],
   "source": [
    "numbers = [0, 1, 2, 3, 4, 5, 6, 7]\n",
    "characters = ['a', 'b', 'c', 'd', 'e']\n",
    "\n",
    "for num in product(numbers, characters):\n",
    "    print(num, end=' ')\n",
    "\n",
    "print(\"\\n\\nproduct with self\\n\")    \n",
    "\n",
    "for num in product(numbers, repeat=2):\n",
    "    print(num, end=' ')"
   ]
  },
  {
   "cell_type": "markdown",
   "metadata": {
    "id": "fJjos9uvpVPi"
   },
   "source": [
    "## permutations()"
   ]
  },
  {
   "cell_type": "markdown",
   "metadata": {
    "id": "d5JdvQ6EpVPi"
   },
   "source": [
    "- Same as mathematical permutation.\n",
    "- Produces items from the input iterable combined in the possible permutations of the given length.\n",
    "- It defaults to producing the full set of all permutations.\n",
    "- Order of item matters i.e. __('a', 'b') and ('b', 'a') are different__"
   ]
  },
  {
   "cell_type": "code",
   "execution_count": null,
   "metadata": {
    "id": "y0DxwzINpVPj",
    "outputId": "6d7bd1e7-e9e9-41e5-98cf-e2caa7ffa22f"
   },
   "outputs": [
    {
     "name": "stdout",
     "output_type": "stream",
     "text": [
      "All permutations:\n",
      "\n",
      "[('a', 'b', 'c'), ('a', 'c', 'b'), ('b', 'a', 'c'), ('b', 'c', 'a'), ('c', 'a', 'b'), ('c', 'b', 'a')]\n",
      "\n",
      "Limit length to 2:\n",
      "\n",
      "[('a', 'b'), ('a', 'c'), ('b', 'a'), ('b', 'c'), ('c', 'a'), ('c', 'b')]\n"
     ]
    }
   ],
   "source": [
    "print('All permutations:\\n')\n",
    "print(list(permutations('abc')))\n",
    "\n",
    "print(\"\\nLimit length to 2:\\n\")\n",
    "print(list(permutations('abc', r=2)))"
   ]
  },
  {
   "cell_type": "markdown",
   "metadata": {
    "id": "h5GewsBApVPl"
   },
   "source": [
    "## combinations()"
   ]
  },
  {
   "cell_type": "markdown",
   "metadata": {
    "id": "0IRBRqsipVPm"
   },
   "source": [
    "- As long as the members of the input are unique, the output will not include any repeated values.\n",
    "- Unlike with permutations, the r argument to combinations() is required.\n",
    "- order does not matter i.e. __('a', 'b') and ('b', 'a') are same__"
   ]
  },
  {
   "cell_type": "code",
   "execution_count": null,
   "metadata": {
    "id": "fBWnyT69pVPm",
    "outputId": "3dae7d74-e120-4a4c-a35e-fc222d423db9"
   },
   "outputs": [
    {
     "name": "stdout",
     "output_type": "stream",
     "text": [
      "Unique pairs:\n",
      "\n",
      "[('a', 'b'), ('a', 'c'), ('b', 'c')]\n"
     ]
    }
   ],
   "source": [
    "print('Unique pairs:\\n')\n",
    "print(list(combinations('abc', r=2)))"
   ]
  },
  {
   "cell_type": "markdown",
   "metadata": {
    "id": "BvbXGMnJpVPm"
   },
   "source": [
    "## combinations_with_replacement()"
   ]
  },
  {
   "cell_type": "markdown",
   "metadata": {
    "id": "HGGzpP21pVPn"
   },
   "source": [
    "- Sometimes it is useful to consider combinations that we include repeated elements.\n",
    "- For those cases, use combinations_with_replacement()."
   ]
  },
  {
   "cell_type": "code",
   "execution_count": null,
   "metadata": {
    "id": "GmFkljPkpVPn",
    "outputId": "cdcd9054-6c2e-4436-b01d-861b62485cd9"
   },
   "outputs": [
    {
     "name": "stdout",
     "output_type": "stream",
     "text": [
      "Unique pairs:\n",
      "\n",
      "[('a', 'a'), ('a', 'b'), ('a', 'c'), ('b', 'b'), ('b', 'c'), ('c', 'c')]\n"
     ]
    }
   ],
   "source": [
    "print('Unique pairs:\\n')\n",
    "print(list(combinations_with_replacement('abc', r=2)))"
   ]
  },
  {
   "cell_type": "code",
   "execution_count": null,
   "metadata": {
    "id": "Ch8a8TghpVPn"
   },
   "outputs": [],
   "source": []
  }
 ],
 "metadata": {
  "colab": {
   "name": "10 Itertools.ipynb",
   "provenance": []
  },
  "kernelspec": {
   "display_name": "Python 3 (ipykernel)",
   "language": "python",
   "name": "python3"
  },
  "language_info": {
   "codemirror_mode": {
    "name": "ipython",
    "version": 3
   },
   "file_extension": ".py",
   "mimetype": "text/x-python",
   "name": "python",
   "nbconvert_exporter": "python",
   "pygments_lexer": "ipython3",
   "version": "3.8.10"
  },
  "toc": {
   "base_numbering": 1,
   "nav_menu": {},
   "number_sections": true,
   "sideBar": true,
   "skip_h1_title": false,
   "title_cell": "Table of Contents",
   "title_sidebar": "Contents",
   "toc_cell": false,
   "toc_position": {},
   "toc_section_display": true,
   "toc_window_display": false
  }
 },
 "nbformat": 4,
 "nbformat_minor": 1
}
