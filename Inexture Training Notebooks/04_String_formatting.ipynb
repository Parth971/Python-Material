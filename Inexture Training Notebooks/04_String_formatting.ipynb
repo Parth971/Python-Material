{
 "cells": [
  {
   "cell_type": "markdown",
   "metadata": {
    "id": "KXPP2blfl21X"
   },
   "source": [
    "# format() method"
   ]
  },
  {
   "cell_type": "code",
   "execution_count": null,
   "metadata": {
    "id": "NYqDg6XXl21Z",
    "outputId": "d21292d1-d238-4415-b9d4-e09adf30576c"
   },
   "outputs": [
    {
     "name": "stdout",
     "output_type": "stream",
     "text": [
      "Let's replaces these curly braces with some value\n"
     ]
    }
   ],
   "source": [
    "print(\"Let's replaces these {} with some value\".format(\"curly braces\"))"
   ]
  },
  {
   "cell_type": "code",
   "execution_count": null,
   "metadata": {
    "id": "P07f7dYGl21i",
    "outputId": "b866005d-8343-443f-9e23-4fabbc32fa32"
   },
   "outputs": [
    {
     "name": "stdout",
     "output_type": "stream",
     "text": [
      "What if I have 1 and 2 braces\n"
     ]
    }
   ],
   "source": [
    "print(\"What if I have {} and {} braces\".format(1, 2))"
   ]
  },
  {
   "cell_type": "code",
   "execution_count": null,
   "metadata": {
    "id": "LQMVRrp0l21m",
    "outputId": "644a74e1-4310-458e-cc29-a47446261216"
   },
   "outputs": [
    {
     "name": "stdout",
     "output_type": "stream",
     "text": [
      "I need a variable here\n"
     ]
    }
   ],
   "source": [
    "a = \"variable\"\n",
    "print(\"I need a {} here\".format(a))"
   ]
  },
  {
   "cell_type": "code",
   "execution_count": null,
   "metadata": {
    "id": "6kyWaDq6l21r",
    "outputId": "bd1985f5-e033-4149-877d-32a363db4408"
   },
   "outputs": [
    {
     "name": "stdout",
     "output_type": "stream",
     "text": [
      "print first here: 1\n",
      "\n",
      "and second here: 2\n"
     ]
    }
   ],
   "source": [
    "first = 1\n",
    "second = 2\n",
    "print(\"print first here: {}\\n\\nand second here: {}\".format(first, second))"
   ]
  },
  {
   "cell_type": "code",
   "execution_count": null,
   "metadata": {
    "id": "RftTjX_Zl21v",
    "outputId": "1ef657e1-2b8a-4521-f8c9-fbabca529f61"
   },
   "outputs": [
    {
     "name": "stdout",
     "output_type": "stream",
     "text": [
      "Positional second here: 2\n",
      "\n",
      "Positional first here: 1\n"
     ]
    }
   ],
   "source": [
    "print(\"Positional second here: {1}\\n\\nPositional first here: {0}\".format(first, second))"
   ]
  },
  {
   "cell_type": "code",
   "execution_count": null,
   "metadata": {
    "id": "6wMbh73Rl210",
    "outputId": "8e522ce0-1945-4b1d-da55-d73461bc5a70"
   },
   "outputs": [
    {
     "name": "stdout",
     "output_type": "stream",
     "text": [
      "You can literally put anything here: [{'first': 1, 'second': 2}, {'first_of_second': 1, 'second_of_second': 2}]\n"
     ]
    }
   ],
   "source": [
    "a_list_of_dictionaries = [{\"first\": 1, \"second\": 2}, {\"first_of_second\": 1, \"second_of_second\": 2}]\n",
    "print(\"You can literally put anything here: {}\".format(a_list_of_dictionaries))"
   ]
  },
  {
   "cell_type": "markdown",
   "metadata": {
    "id": "4-iWCoYOl215"
   },
   "source": [
    "## conversion flags"
   ]
  },
  {
   "cell_type": "code",
   "execution_count": null,
   "metadata": {
    "id": "J7Pc3yJEl216",
    "outputId": "bee22ec2-9496-4fbd-e0a6-906a796aa422"
   },
   "outputs": [
    {
     "name": "stdout",
     "output_type": "stream",
     "text": [
      "Convert it to string before you replace [1, 2, 'µ']\n",
      "Bring out the holy [1, 2, 'µ']\n",
      "More [1, 2, '\\xb5']\n",
      "For only 49.35 dollars!\n"
     ]
    }
   ],
   "source": [
    "a = [1, 2, \"µ\"]\n",
    "print(\"Convert it to string before you replace {0!s}\".format(a))        # Calls str() on the argument first\n",
    "print(\"Bring out the holy {arg!r}\".format(arg=a))                       # Calls repr() on the argument first\n",
    "print(\"More {!a}\".format(a))                                            # Calls ascii() on the argument first\n",
    "txt = \"For only {price:.2f} dollars!\"\n",
    "print(txt.format(price = 49.348972))"
   ]
  },
  {
   "cell_type": "markdown",
   "metadata": {
    "id": "L6o0uixgl22A"
   },
   "source": [
    "## Formatting Types"
   ]
  },
  {
   "cell_type": "code",
   "execution_count": null,
   "metadata": {
    "id": "IP5oo1mEl22B",
    "outputId": "8c9a9c1c-9396-448a-cee4-229fbc52122c"
   },
   "outputs": [
    {
     "name": "stdout",
     "output_type": "stream",
     "text": [
      "This is left aligend              string\n"
     ]
    }
   ],
   "source": [
    "a = \"This is left {:<20} string\"\n",
    "print(a.format(\"aligend\"))"
   ]
  },
  {
   "cell_type": "code",
   "execution_count": null,
   "metadata": {
    "id": "ufyDAZohl22F",
    "outputId": "ead3a679-bb1a-4037-ea71-9d7a61d0f84f"
   },
   "outputs": [
    {
     "name": "stdout",
     "output_type": "stream",
     "text": [
      "This is right              aligned string\n"
     ]
    }
   ],
   "source": [
    "txt = \"This is right {:>20} string\"\n",
    "print(txt.format(\"aligned\"))"
   ]
  },
  {
   "cell_type": "code",
   "execution_count": null,
   "metadata": {
    "id": "0uWU3KCPl22J",
    "outputId": "9839ad3e-d331-4145-df21-5f8501da134d"
   },
   "outputs": [
    {
     "name": "stdout",
     "output_type": "stream",
     "text": [
      "This is center       aligned        string\n"
     ]
    }
   ],
   "source": [
    "txt = \"This is center {:^20} string\"\n",
    "print(txt.format(\"aligned\"))"
   ]
  },
  {
   "cell_type": "markdown",
   "metadata": {
    "id": "FCy8x7Vvl22O"
   },
   "source": [
    "### Useful links\n",
    "\n",
    "- [DOC](https://docs.python.org/3.7/tutorial/inputoutput.html#fancier-output-formatting)\n",
    "- [w3](https://www.w3schools.com/python/ref_string_format.asp)"
   ]
  },
  {
   "cell_type": "markdown",
   "metadata": {
    "id": "ZUJLDkRil22O"
   },
   "source": [
    "# String Interpolation / f-Strings (Python 3.6+)"
   ]
  },
  {
   "cell_type": "code",
   "execution_count": null,
   "metadata": {
    "id": "IXdIS83bl22P",
    "outputId": "73d99049-bde3-439c-9a8a-bb054478a8b5"
   },
   "outputs": [
    {
     "name": "stdout",
     "output_type": "stream",
     "text": [
      "Hello, python!\n"
     ]
    }
   ],
   "source": [
    "name = \"python\"\n",
    "print(f'Hello, {name}!')"
   ]
  },
  {
   "cell_type": "code",
   "execution_count": null,
   "metadata": {
    "id": "t3dpp5dql22T",
    "outputId": "bbd92e78-6dfd-4145-aec6-ffe86cab4669"
   },
   "outputs": [
    {
     "name": "stdout",
     "output_type": "stream",
     "text": [
      "10 ** 3 = 1000\n"
     ]
    }
   ],
   "source": [
    "a = 10\n",
    "b = 3\n",
    "print(f\"10 ** 3 = {a**b}\")"
   ]
  },
  {
   "cell_type": "markdown",
   "metadata": {
    "id": "6kq9v4HIl22W"
   },
   "source": [
    "- Above strings get transformed into the following\n",
    "1. **\"hello\" + name + \"!\"**\n",
    "2. **\"10 \\*\\* 3 = \" a \\*\\* b**"
   ]
  },
  {
   "cell_type": "markdown",
   "metadata": {
    "id": "npi_ZrYUl22X"
   },
   "source": [
    "# Template Strings\n",
    "\n",
    "- It’s a simpler and less powerful mechanism"
   ]
  },
  {
   "cell_type": "code",
   "execution_count": null,
   "metadata": {
    "id": "52xyUY1Gl22Y",
    "outputId": "f8d80f9a-731b-431c-cd0b-1a1e37231651"
   },
   "outputs": [
    {
     "name": "stdout",
     "output_type": "stream",
     "text": [
      "We can put {'__name__': '__main__', '__doc__': 'Automatically created module for IPython interactive environment', '__package__': None, '__loader__': None, '__spec__': None, '__builtin__': <module 'builtins' (built-in)>, '__builtins__': <module 'builtins' (built-in)>, '_ih': ['', 'a = 256\\nb = 256\\na is b', 'a = 257\\nb = 257\\na is b', 'print(\"Let\\'s replaces these {} with some value\".format(\"curly braces\"))', 'print(\"What if I have {} and {} braces\".format(1, 2))', 'a = \"variable\"\\nprint(\"I need a {} here\".format(a))', 'print(\"Positional second here: {1}\\\\n\\\\nPositional first here: {0}\".format(first, second))', 'first = 1\\nsecond = 2\\nprint(\"print first here: {}\\\\n\\\\nand second here: {}\".format(first, second))', 'print(\"Positional second here: {1}\\\\n\\\\nPositional first here: {0}\".format(first, second))', 'a_list_of_dictionaries = [{\"first\": 1, \"second\": 2}, {\"first_of_second\": 1, \"second_of_second\": 2}]\\nprint(\"You can literally put anything here: {}\".format(a_list_of_dictionaries))', 'a = [1, 2, \"µ\"]\\nprint(\"Convert it to string before you replace {0!s}\".format(a))        # Calls str() on the argument first\\nprint(\"Bring out the holy {arg!r}\".format(arg=a))                       # Calls repr() on the argument first\\nprint(\"More {!a}\".format(a))                                            # Calls ascii() on the argument first\\ntxt = \"For only {price:.2f} dollars!\"\\nprint(txt.format(price = 49.348972))', 'a = \"This is left {:<5} string\"\\nprint(a.format(\"aligend\"))', 'a = \"This is left {:<20} string\"\\nprint(a.format(\"aligend\"))', 'name = \"python\"\\nprint(f\\'Hello, {name}!\\')', 'a = 10\\nb = 3\\nprint(f\"10 ** 3 = {a**b}\")', 'from string import Template\\n\\na = \"variables\"\\nb = \"dollar\"\\n\\nmy_string = Template(\"We can put $a with $b prefix and use them later, creating a template\")\\nprint(my_string.substitute(a=a, b=b))', 'a = 10\\nb = 3\\nc = locals()\\nprint(f\"10 ** 3 = {locals()}\")', 'a = 10\\nb = 3\\nc = locals()\\na_secret_key = \"asdfasdfasddfasdsf\"\\nprint(f\"10 ** 3 = {locals()}\")', 'a = 10\\nb = 3\\nprint(f\"10 ** 3 = {a**b}\")', 'from string import Template\\n\\na = locals()\\nb = \"dollar\"\\n\\nmy_string = Template(\"We can put $a with $b prefix and use them later, creating a template\")\\nprint(my_string.substitute(a=a, b=b))'], '_oh': {1: True, 2: False}, '_dh': ['/home/pritesh/Dropbox/Python training/Notebooks'], 'In': ['', 'a = 256\\nb = 256\\na is b', 'a = 257\\nb = 257\\na is b', 'print(\"Let\\'s replaces these {} with some value\".format(\"curly braces\"))', 'print(\"What if I have {} and {} braces\".format(1, 2))', 'a = \"variable\"\\nprint(\"I need a {} here\".format(a))', 'print(\"Positional second here: {1}\\\\n\\\\nPositional first here: {0}\".format(first, second))', 'first = 1\\nsecond = 2\\nprint(\"print first here: {}\\\\n\\\\nand second here: {}\".format(first, second))', 'print(\"Positional second here: {1}\\\\n\\\\nPositional first here: {0}\".format(first, second))', 'a_list_of_dictionaries = [{\"first\": 1, \"second\": 2}, {\"first_of_second\": 1, \"second_of_second\": 2}]\\nprint(\"You can literally put anything here: {}\".format(a_list_of_dictionaries))', 'a = [1, 2, \"µ\"]\\nprint(\"Convert it to string before you replace {0!s}\".format(a))        # Calls str() on the argument first\\nprint(\"Bring out the holy {arg!r}\".format(arg=a))                       # Calls repr() on the argument first\\nprint(\"More {!a}\".format(a))                                            # Calls ascii() on the argument first\\ntxt = \"For only {price:.2f} dollars!\"\\nprint(txt.format(price = 49.348972))', 'a = \"This is left {:<5} string\"\\nprint(a.format(\"aligend\"))', 'a = \"This is left {:<20} string\"\\nprint(a.format(\"aligend\"))', 'name = \"python\"\\nprint(f\\'Hello, {name}!\\')', 'a = 10\\nb = 3\\nprint(f\"10 ** 3 = {a**b}\")', 'from string import Template\\n\\na = \"variables\"\\nb = \"dollar\"\\n\\nmy_string = Template(\"We can put $a with $b prefix and use them later, creating a template\")\\nprint(my_string.substitute(a=a, b=b))', 'a = 10\\nb = 3\\nc = locals()\\nprint(f\"10 ** 3 = {locals()}\")', 'a = 10\\nb = 3\\nc = locals()\\na_secret_key = \"asdfasdfasddfasdsf\"\\nprint(f\"10 ** 3 = {locals()}\")', 'a = 10\\nb = 3\\nprint(f\"10 ** 3 = {a**b}\")', 'from string import Template\\n\\na = locals()\\nb = \"dollar\"\\n\\nmy_string = Template(\"We can put $a with $b prefix and use them later, creating a template\")\\nprint(my_string.substitute(a=a, b=b))'], 'Out': {1: True, 2: False}, 'get_ipython': <bound method InteractiveShell.get_ipython of <ipykernel.zmqshell.ZMQInteractiveShell object at 0x7f3744b7b050>>, 'exit': <IPython.core.autocall.ZMQExitAutocall object at 0x7f3744ba2590>, 'quit': <IPython.core.autocall.ZMQExitAutocall object at 0x7f3744ba2590>, '_': False, '__': True, '___': '', 'json': <module 'json' from '/home/pritesh/anaconda3/lib/python3.7/json/__init__.py'>, 'yapf_reformat': <function yapf_reformat at 0x7f37404c6560>, 'lib2to3': <module 'lib2to3' from '/home/pritesh/anaconda3/lib/python3.7/lib2to3/__init__.py'>, '_2to3_refactoring_tool': <lib2to3.refactor.RefactoringTool object at 0x7f37462f0a90>, '_2to3_refactor_cell': <function _2to3_refactor_cell at 0x7f37412247a0>, '_i': 'a = 10\\nb = 3\\nprint(f\"10 ** 3 = {a**b}\")', '_ii': 'a = 10\\nb = 3\\nc = locals()\\na_secret_key = \"asdfasdfasddfasdsf\"\\nprint(f\"10 ** 3 = {locals()}\")', '_iii': 'a = 10\\nb = 3\\nc = locals()\\nprint(f\"10 ** 3 = {locals()}\")', '_i1': 'a = 256\\nb = 256\\na is b', 'a': {...}, 'b': 'dollar', '_1': True, '_i2': 'a = 257\\nb = 257\\na is b', '_2': False, '_i3': 'print(\"Let\\'s replaces these {} with some value\".format(\"curly braces\"))', '_i4': 'print(\"What if I have {} and {} braces\".format(1, 2))', '_i5': 'a = \"variable\"\\nprint(\"I need a {} here\".format(a))', '_i6': 'print(\"Positional second here: {1}\\\\n\\\\nPositional first here: {0}\".format(first, second))', '_i7': 'first = 1\\nsecond = 2\\nprint(\"print first here: {}\\\\n\\\\nand second here: {}\".format(first, second))', 'first': 1, 'second': 2, '_i8': 'print(\"Positional second here: {1}\\\\n\\\\nPositional first here: {0}\".format(first, second))', '_i9': 'a_list_of_dictionaries = [{\"first\": 1, \"second\": 2}, {\"first_of_second\": 1, \"second_of_second\": 2}]\\nprint(\"You can literally put anything here: {}\".format(a_list_of_dictionaries))', 'a_list_of_dictionaries': [{'first': 1, 'second': 2}, {'first_of_second': 1, 'second_of_second': 2}], '_i10': 'a = [1, 2, \"µ\"]\\nprint(\"Convert it to string before you replace {0!s}\".format(a))        # Calls str() on the argument first\\nprint(\"Bring out the holy {arg!r}\".format(arg=a))                       # Calls repr() on the argument first\\nprint(\"More {!a}\".format(a))                                            # Calls ascii() on the argument first\\ntxt = \"For only {price:.2f} dollars!\"\\nprint(txt.format(price = 49.348972))', 'txt': 'For only {price:.2f} dollars!', '_i11': 'a = \"This is left {:<5} string\"\\nprint(a.format(\"aligend\"))', '_i12': 'a = \"This is left {:<20} string\"\\nprint(a.format(\"aligend\"))', '_i13': 'name = \"python\"\\nprint(f\\'Hello, {name}!\\')', 'name': 'python', '_i14': 'a = 10\\nb = 3\\nprint(f\"10 ** 3 = {a**b}\")', '_i15': 'from string import Template\\n\\na = \"variables\"\\nb = \"dollar\"\\n\\nmy_string = Template(\"We can put $a with $b prefix and use them later, creating a template\")\\nprint(my_string.substitute(a=a, b=b))', 'Template': <class 'string.Template'>, 'my_string': <string.Template object at 0x7f37405b90d0>, '_i16': 'a = 10\\nb = 3\\nc = locals()\\nprint(f\"10 ** 3 = {locals()}\")', 'c': {...}, '_i17': 'a = 10\\nb = 3\\nc = locals()\\na_secret_key = \"asdfasdfasddfasdsf\"\\nprint(f\"10 ** 3 = {locals()}\")', 'a_secret_key': 'asdfasdfasddfasdsf', '_i18': 'a = 10\\nb = 3\\nprint(f\"10 ** 3 = {a**b}\")', '_i19': 'from string import Template\\n\\na = locals()\\nb = \"dollar\"\\n\\nmy_string = Template(\"We can put $a with $b prefix and use them later, creating a template\")\\nprint(my_string.substitute(a=a, b=b))'} with dollar prefix and use them later, creating a template\n"
     ]
    }
   ],
   "source": [
    "from string import Template\n",
    "\n",
    "a = locals()\n",
    "b = \"dollar\"\n",
    "\n",
    "my_string = Template(\"We can put $a with $b prefix and use them later, creating a template\")\n",
    "print(my_string.substitute(a=a, b=b))"
   ]
  },
  {
   "cell_type": "markdown",
   "metadata": {
    "id": "a_e4Qd7xl22c"
   },
   "source": [
    "# What to use and when?"
   ]
  },
  {
   "cell_type": "markdown",
   "metadata": {
    "id": "pHz7LW6Al22d"
   },
   "source": [
    "![title](images/string_format.png)"
   ]
  }
 ],
 "metadata": {
  "colab": {
   "name": "04 String formatting.ipynb",
   "provenance": []
  },
  "kernelspec": {
   "display_name": "Python 3 (ipykernel)",
   "language": "python",
   "name": "python3"
  },
  "language_info": {
   "codemirror_mode": {
    "name": "ipython",
    "version": 3
   },
   "file_extension": ".py",
   "mimetype": "text/x-python",
   "name": "python",
   "nbconvert_exporter": "python",
   "pygments_lexer": "ipython3",
   "version": "3.8.10"
  },
  "toc": {
   "base_numbering": 1,
   "nav_menu": {},
   "number_sections": true,
   "sideBar": true,
   "skip_h1_title": false,
   "title_cell": "Table of Contents",
   "title_sidebar": "Contents",
   "toc_cell": false,
   "toc_position": {},
   "toc_section_display": true,
   "toc_window_display": false
  }
 },
 "nbformat": 4,
 "nbformat_minor": 1
}
