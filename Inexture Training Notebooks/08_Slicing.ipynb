{
 "cells": [
  {
   "cell_type": "markdown",
   "metadata": {
    "id": "rA3fq8oHwSdf"
   },
   "source": [
    "# The meaning of \"slice\""
   ]
  },
  {
   "cell_type": "markdown",
   "metadata": {
    "id": "iIdC_xn5wSdh"
   },
   "source": [
    "- __A part of something.__\n",
    "- __To cut into something.__\n",
    "- __If you slice bread, meat, fruit, or other food, you cut it into thin pieces.__\n",
    "- __In python also slicing has the same meaning.__\n",
    "- __CUTTING SEQUENCES INTO PIECES IS SLICING.__"
   ]
  },
  {
   "cell_type": "markdown",
   "metadata": {
    "id": "qx8e1owqwSdi"
   },
   "source": [
    "# The slice notation in python"
   ]
  },
  {
   "cell_type": "markdown",
   "metadata": {
    "id": "p6-UcS2bwSdk"
   },
   "source": [
    "## Positive index and positive steps."
   ]
  },
  {
   "cell_type": "markdown",
   "metadata": {
    "id": "Sv84yBfdwSdl"
   },
   "source": [
    "- For simplicity we will be using lists in examples.\n",
    "- __a\\[ : \\]:__ Means every object in a.\n",
    "- __a\\[ i : \\]:__ Means start __from i<sup>th</sup> index__ and cut __till the last index.__ (including last index)\n",
    "- __a\\[ : i \\]:__ Means start __from 0<sup>th</sup> index__ and cut __till i<sup>th</sup> index__ (not including i<sup>th</sup> index).\n",
    "- __a\\[ i : j \\]:__ Means start __from i<sup>th</sup> index__ and cut __till j<sup>th</sup> index__ (not including j<sup>th</sup> index).\n",
    "- __a\\[ i : j : k \\]:__ Means start __from i<sup>th</sup> index__ take __k steps each time__ and cut __till j<sup>th</sup> index__ (not including j<sup>th</sup> index) __default k = 1.__\n",
    "- __a\\[ : : k \\]:__ Means if __k is positive__ then start __from 0<sup>th</sup> index__ and cut __till last index__ (including last index) taking __k steps each time__."
   ]
  },
  {
   "cell_type": "code",
   "execution_count": null,
   "metadata": {
    "id": "1EXAMlsIwSdm"
   },
   "outputs": [],
   "source": [
    "a_list = list(range(1, 11))"
   ]
  },
  {
   "cell_type": "markdown",
   "metadata": {
    "id": "iSGZJMBWwSds"
   },
   "source": [
    "### a_list\\[ : \\]"
   ]
  },
  {
   "cell_type": "markdown",
   "metadata": {
    "id": "L9AzQVcrwSds"
   },
   "source": [
    "- Means __EVERY__ object in the list."
   ]
  },
  {
   "cell_type": "code",
   "execution_count": null,
   "metadata": {
    "id": "kMD_IvAswSdt",
    "outputId": "5390ccd9-d7eb-4756-ebb0-0e7b328898e6"
   },
   "outputs": [
    {
     "name": "stdout",
     "output_type": "stream",
     "text": [
      "[1, 2, 3, 4, 5, 6, 7, 8, 9, 10]\n"
     ]
    }
   ],
   "source": [
    "print(a_list[:])"
   ]
  },
  {
   "cell_type": "code",
   "execution_count": null,
   "metadata": {
    "id": "BvhMjaBZwSdy",
    "outputId": "96a6c2e2-a1e9-49ba-cc98-a16e37e51520"
   },
   "outputs": [
    {
     "name": "stdout",
     "output_type": "stream",
     "text": [
      "[1, 2, 3, 4, 5, 6, 7, 8, 9, 10]\n"
     ]
    }
   ],
   "source": [
    "b_list = a_list[:]\n",
    "print(b_list)"
   ]
  },
  {
   "cell_type": "code",
   "execution_count": null,
   "metadata": {
    "id": "r3cCUY0TwSd2",
    "outputId": "d1dada01-590d-4575-925e-d3fc134ed711"
   },
   "outputs": [
    {
     "name": "stdout",
     "output_type": "stream",
     "text": [
      "[]\n"
     ]
    },
    {
     "ename": "NameError",
     "evalue": "name 'a_list' is not defined",
     "output_type": "error",
     "traceback": [
      "\u001b[0;31m---------------------------------------------------------------------------\u001b[0m",
      "\u001b[0;31mNameError\u001b[0m                                 Traceback (most recent call last)",
      "\u001b[0;32m<ipython-input-4-57d218116196>\u001b[0m in \u001b[0;36m<module>\u001b[0;34m\u001b[0m\n\u001b[1;32m      3\u001b[0m \u001b[0;34m\u001b[0m\u001b[0m\n\u001b[1;32m      4\u001b[0m \u001b[0;32mdel\u001b[0m \u001b[0ma_list\u001b[0m  \u001b[0;31m# It deletes the list itself.\u001b[0m\u001b[0;34m\u001b[0m\u001b[0;34m\u001b[0m\u001b[0m\n\u001b[0;32m----> 5\u001b[0;31m \u001b[0mprint\u001b[0m\u001b[0;34m(\u001b[0m\u001b[0ma_list\u001b[0m\u001b[0;34m)\u001b[0m  \u001b[0;31m# Raises an exception\u001b[0m\u001b[0;34m\u001b[0m\u001b[0;34m\u001b[0m\u001b[0m\n\u001b[0m",
      "\u001b[0;31mNameError\u001b[0m: name 'a_list' is not defined"
     ]
    }
   ],
   "source": [
    "del a_list[:]  # It will delete all the objects in the list.\n",
    "print(a_list)  # Prints empty list\n",
    "\n",
    "del a_list  # It deletes the list itself.\n",
    "print(a_list)  # Raises an exception"
   ]
  },
  {
   "cell_type": "markdown",
   "metadata": {
    "id": "DdO2-t3IwSd8"
   },
   "source": [
    "### a_list\\[ i : \\]"
   ]
  },
  {
   "cell_type": "markdown",
   "metadata": {
    "id": "_QNSgLgLwSd9"
   },
   "source": [
    "- Means start __FROM I<sup>TH</sup> INDEX__ and cut __TILL THE LAST INDEX.__ (Including last index)"
   ]
  },
  {
   "cell_type": "code",
   "execution_count": null,
   "metadata": {
    "id": "9I1O7mlGwSd-",
    "outputId": "3d0a8891-3e1c-42c7-8631-f7c05854d7a6"
   },
   "outputs": [
    {
     "name": "stdout",
     "output_type": "stream",
     "text": [
      "5th to last index a_list[5:] = [6, 7, 8, 9, 10]\n",
      "\n",
      "\n",
      "Assigning 5th to last index \n",
      "b_list = a_list[5:]\n",
      "b_list = [6, 7, 8, 9, 10]\n",
      "\n",
      "\n",
      "list after deleting 5th to last index del a_list[5:]:\n",
      "\n",
      "[1, 2, 3, 4, 5]\n"
     ]
    }
   ],
   "source": [
    "a_list = list(range(1, 11))\n",
    "\n",
    "print(f\"5th to last index a_list[5:] = {a_list[5:]}\\n\")\n",
    "\n",
    "print(f\"\\nAssigning 5th to last index \\nb_list = a_list[5:]\")\n",
    "\n",
    "b_list = a_list[5:]\n",
    "\n",
    "print(f\"b_list = {b_list}\")\n",
    "\n",
    "del a_list[5:]\n",
    "\n",
    "print(f\"\\n\\nlist after deleting 5th to last index del a_list[5:]:\\n\")\n",
    "\n",
    "print(a_list)"
   ]
  },
  {
   "cell_type": "markdown",
   "metadata": {
    "id": "AVhI7IUqwSeD"
   },
   "source": [
    "### a_list\\[ : i \\]"
   ]
  },
  {
   "cell_type": "markdown",
   "metadata": {
    "id": "LVH4Z69ewSeF"
   },
   "source": [
    "- Means start __FROM 0<sup>TH</sup> INDEX__ and cut __TILL I<sup>TH</sup> INDEX__ (not including i<sup>th</sup> index)."
   ]
  },
  {
   "cell_type": "code",
   "execution_count": null,
   "metadata": {
    "id": "FyvnY1ZtwSeG",
    "outputId": "e9927674-9a74-4ca7-ef35-13ec22ea218e"
   },
   "outputs": [
    {
     "name": "stdout",
     "output_type": "stream",
     "text": [
      "0th to 5th index not including 5th index a_list[:5] = [1, 2, 3, 4, 5]\n",
      "\n",
      "\n",
      "Assigning 0th to 5th index not including 5th index \n",
      "b_list = a_list[:5]\n",
      "b_list = [1, 2, 3, 4, 5]\n",
      "\n",
      "\n",
      "list after deleting 0th to 5th index del a_list[:5]:\n",
      "\n",
      "[6, 7, 8, 9, 10]\n"
     ]
    }
   ],
   "source": [
    "a_list = list(range(1, 11))\n",
    "\n",
    "print(f\"0th to 5th index not including 5th index a_list[:5] = {a_list[:5]}\\n\")\n",
    "\n",
    "print(f\"\\nAssigning 0th to 5th index not including 5th index \\nb_list = a_list[:5]\")\n",
    "\n",
    "b_list = a_list[:5]\n",
    "\n",
    "print(f\"b_list = {b_list}\")\n",
    "\n",
    "del a_list[:5]\n",
    "\n",
    "print(f\"\\n\\nlist after deleting 0th to 5th index del a_list[:5]:\\n\")\n",
    "\n",
    "print(a_list)"
   ]
  },
  {
   "cell_type": "markdown",
   "metadata": {
    "id": "I5L0jzDKwSeL"
   },
   "source": [
    "### a_list\\[ i : j \\]"
   ]
  },
  {
   "cell_type": "markdown",
   "metadata": {
    "id": "9tVWu4O6wSeN"
   },
   "source": [
    "- Means start __FROM I<sup>TH</sup> INDEX__ and cut __TILL J<sup>TH</sup> INDEX__ (not including j<sup>th</sup> index)."
   ]
  },
  {
   "cell_type": "code",
   "execution_count": null,
   "metadata": {
    "id": "DabaFNEPwSeO",
    "outputId": "9b283d8d-2edf-4ee0-8733-1a80eb3ea1b5"
   },
   "outputs": [
    {
     "name": "stdout",
     "output_type": "stream",
     "text": [
      "4th to 7th index not including 7th index a_list[4:7] = [5, 6, 7]\n",
      "\n",
      "\n",
      "Assigning 4th to 7th index not including 7th index \n",
      "b_list = a_list[4:7]\n",
      "b_list = [5, 6, 7]\n",
      "\n",
      "\n",
      "list after deleting 4th to 7th index not including 7th del a_list[4:7]:\n",
      "\n",
      "[1, 2, 3, 4, 8, 9, 10]\n"
     ]
    }
   ],
   "source": [
    "a_list = list(range(1, 11))\n",
    "\n",
    "print(f\"4th to 7th index not including 7th index a_list[4:7] = {a_list[4:7]}\\n\")\n",
    "\n",
    "print(f\"\\nAssigning 4th to 7th index not including 7th index \\nb_list = a_list[4:7]\")\n",
    "\n",
    "b_list = a_list[4:7]\n",
    "\n",
    "print(f\"b_list = {b_list}\")\n",
    "\n",
    "del a_list[4:7]\n",
    "\n",
    "print(f\"\\n\\nlist after deleting 4th to 7th index not including 7th del a_list[4:7]:\\n\")\n",
    "\n",
    "print(a_list)"
   ]
  },
  {
   "cell_type": "markdown",
   "metadata": {
    "id": "ojsMHlqywSeU"
   },
   "source": [
    "### a_list\\[ i : j : k \\]"
   ]
  },
  {
   "cell_type": "markdown",
   "metadata": {
    "id": "FJJvJtifwSeV"
   },
   "source": [
    "- Means start __FROM I<sup>TH</sup> INDEX__ take __K STEPS EACH TIME__ and cut __TILL J<sup>TH</sup> INDEX__ (not including j<sup>th</sup> index) __DEFAULT K = 1.__"
   ]
  },
  {
   "cell_type": "code",
   "execution_count": null,
   "metadata": {
    "id": "Mdxy1C0jwSeW",
    "outputId": "e0da5c75-15b6-4a5e-e7c9-a970537033de"
   },
   "outputs": [
    {
     "name": "stdout",
     "output_type": "stream",
     "text": [
      "3rd to 7th index not including 7th index, steps = 2 a_list[3:7:2] = [4, 6]\n",
      "\n",
      "\n",
      "Assigning 3rd to 7th index not including 7th index, steps = 2 \n",
      "b_list = a_list[3:7:2]\n",
      "b_list = [4, 6]\n",
      "\n",
      "\n",
      "list after deleting 3rd to 7th index not including 7th index, steps = 2 del a_list[3:7:2]:\n",
      "\n",
      "[1, 2, 3, 5, 7, 8, 9, 10]\n"
     ]
    }
   ],
   "source": [
    "a_list = list(range(1, 11))\n",
    "\n",
    "print(f\"3rd to 7th index not including 7th index, steps = 2 a_list[3:7:2] = {a_list[3:7:2]}\\n\")\n",
    "\n",
    "print(f\"\\nAssigning 3rd to 7th index not including 7th index, steps = 2 \\nb_list = a_list[3:7:2]\")\n",
    "\n",
    "b_list = a_list[3:7:2]\n",
    "\n",
    "print(f\"b_list = {b_list}\")\n",
    "\n",
    "del a_list[3:7:2]\n",
    "\n",
    "print(f\"\\n\\nlist after deleting 3rd to 7th index not including 7th index, steps = 2 del a_list[3:7:2]:\\n\")\n",
    "\n",
    "print(a_list)"
   ]
  },
  {
   "cell_type": "markdown",
   "metadata": {
    "id": "z2ujvA-OwSec"
   },
   "source": [
    "### a_list\\[ : : k \\]"
   ]
  },
  {
   "cell_type": "markdown",
   "metadata": {
    "id": "76VJ8v8-wSed"
   },
   "source": [
    "- Means if __K IS POSITIVE__ then start __FROM 0<sup>TH</sup> INDEX__ and cut __TILL LAST INDEX__ (including last index) taking __K STEPS EACH TIME__."
   ]
  },
  {
   "cell_type": "code",
   "execution_count": null,
   "metadata": {
    "id": "fjKEcPCPwSee",
    "outputId": "40859829-62a4-45e4-fc54-1dbe53e01c02"
   },
   "outputs": [
    {
     "name": "stdout",
     "output_type": "stream",
     "text": [
      "0th to last index including last index, steps = 2 a_list[::2] = [1, 3, 5, 7, 9]\n",
      "\n",
      "\n",
      "Assigning 0th to last index including last index, steps = 2 \n",
      "b_list = a_list[::2]\n",
      "b_list = [1, 3, 5, 7, 9]\n",
      "\n",
      "\n",
      "list after deleting 0th to last index including last index, steps = 2 del a_list[::2]:\n",
      "\n",
      "[2, 4, 6, 8, 10]\n"
     ]
    }
   ],
   "source": [
    "a_list = list(range(1, 11))\n",
    "\n",
    "print(f\"0th to last index including last index, steps = 2 a_list[::2] = {a_list[::2]}\\n\")\n",
    "\n",
    "print(f\"\\nAssigning 0th to last index including last index, steps = 2 \\nb_list = a_list[::2]\")\n",
    "\n",
    "b_list = a_list[::2]\n",
    "\n",
    "print(f\"b_list = {b_list}\")\n",
    "\n",
    "del a_list[::2]\n",
    "\n",
    "print(f\"\\n\\nlist after deleting 0th to last index including last index, steps = 2 del a_list[::2]:\\n\")\n",
    "\n",
    "print(a_list)"
   ]
  },
  {
   "cell_type": "markdown",
   "metadata": {
    "id": "4BA8Z5T7wSek"
   },
   "source": [
    "## Negative Index and Negative steps"
   ]
  },
  {
   "cell_type": "markdown",
   "metadata": {
    "id": "h-A6Ru2hwSek"
   },
   "source": [
    "- For simplicity we will be using lists in examples.\n",
    "\n",
    "- You can think of negative indexes as __reverse of the positive index__ only that it __starts from -1__ (obviously we can not have -0).\n",
    "\n",
    "- So, in terms of indexes __-1 is reverse of 0, -2 is reverse of 1, -3 is reverse of 2__ and so on.\n",
    "\n",
    "- Meaning that if you write __a_list\\[-1\\] it gives you the last element in that list.__\n",
    "\n",
    "- In other terms, negative indexes __start counting from last element__ of the list and __continue in reverse direction.__"
   ]
  },
  {
   "cell_type": "markdown",
   "metadata": {
    "id": "clOqbB2cwSel"
   },
   "source": [
    "- __a\\[ -i : \\]:__ Means start __from -i<sup>th</sup> last index__ and cut __till the last index.__ (including last index)\n",
    "- __a\\[ : -i \\]:__ Means start __from 0<sup>th</sup> index__ and cut __till i<sup>th</sup> last index__ (not including i<sup>th</sup> last index).\n",
    "- __a\\[ -i : -j \\]:__ Means start __from -i<sup>th</sup> last index__ and cut __till -j<sup>th</sup> last index__ (not including -j<sup>th</sup> last index). __-i < -j__\n",
    "- __a\\[ -i : -j : -k \\]:__ Means start __from i<sup>th</sup> last index__ take __k steps in reverse each time__ and cut __till j<sup>th</sup> last index__ (not including j<sup>th</sup> last index) __default k = 1.__ __-i > -j__\n",
    "- __a\\[ : : -k \\]:__ Means if __k is negative__ then start __from -1<sup>th</sup> index__ and cut __till first index__ (including first index) taking __k steps in reverse each time__."
   ]
  },
  {
   "cell_type": "markdown",
   "metadata": {
    "id": "88y9NJ1FwSem"
   },
   "source": [
    "### a_list\\[ -i : \\]"
   ]
  },
  {
   "cell_type": "markdown",
   "metadata": {
    "id": "7_5u6RGiwSen"
   },
   "source": [
    "- Means start __FROM -I<sup>TH</sup> LAST INDEX__ and cut __TILL THE LAST INDEX.__ (including last index)"
   ]
  },
  {
   "cell_type": "code",
   "execution_count": null,
   "metadata": {
    "id": "VyEag_0awSeo",
    "outputId": "1ce8b19c-9137-486a-ee48-fddd371022cf"
   },
   "outputs": [
    {
     "name": "stdout",
     "output_type": "stream",
     "text": [
      "-5th to last index a_list[-5:] = [6, 7, 8, 9, 10]\n",
      "\n",
      "\n",
      "Assigning -5th to last index \n",
      "b_list = a_list[-5:]\n",
      "b_list = [6, 7, 8, 9, 10]\n",
      "\n",
      "\n",
      "list after deleting -5th to last index del a_list[-5:]:\n",
      "\n",
      "[1, 2, 3, 4, 5]\n"
     ]
    }
   ],
   "source": [
    "a_list = list(range(1, 11))\n",
    "\n",
    "print(f\"-5th to last index a_list[-5:] = {a_list[-5:]}\\n\")\n",
    "\n",
    "print(f\"\\nAssigning -5th to last index \\nb_list = a_list[-5:]\")\n",
    "\n",
    "b_list = a_list[-5:]\n",
    "\n",
    "print(f\"b_list = {b_list}\")\n",
    "\n",
    "del a_list[-5:]\n",
    "\n",
    "print(f\"\\n\\nlist after deleting -5th to last index del a_list[-5:]:\\n\")\n",
    "\n",
    "print(a_list)"
   ]
  },
  {
   "cell_type": "markdown",
   "metadata": {
    "id": "jE1GuLvIwSet"
   },
   "source": [
    "### a_list\\[ : -i \\]"
   ]
  },
  {
   "cell_type": "markdown",
   "metadata": {
    "id": "gz23oG9DwSeu"
   },
   "source": [
    "- Means start __FROM 0<sup>TH</sup> INDEX__ and cut __TILL I<sup>TH</sup> LAST INDEX__ (not including i<sup>th</sup> last index)."
   ]
  },
  {
   "cell_type": "code",
   "execution_count": null,
   "metadata": {
    "id": "KH8HnKKSwSev",
    "outputId": "f0213b69-5acd-4b05-cf24-ff5efc4bf797"
   },
   "outputs": [
    {
     "name": "stdout",
     "output_type": "stream",
     "text": [
      "0th to -2nd index not including -2nd index a_list[:-2] = [1, 2, 3, 4, 5, 6, 7, 8]\n",
      "\n",
      "\n",
      "Assigning 0th to -2nd index not including -2nd index \n",
      "b_list = a_list[:-2]\n",
      "b_list = [1, 2, 3, 4, 5, 6, 7, 8]\n",
      "\n",
      "\n",
      "list after deleting 0th to -2nd index del a_list[:-2]:\n",
      "\n",
      "[9, 10]\n"
     ]
    }
   ],
   "source": [
    "a_list = list(range(1, 11))\n",
    "\n",
    "print(f\"0th to -2nd index not including -2nd index a_list[:-2] = {a_list[:-2]}\\n\")\n",
    "\n",
    "print(f\"\\nAssigning 0th to -2nd index not including -2nd index \\nb_list = a_list[:-2]\")\n",
    "\n",
    "b_list = a_list[:-2]\n",
    "\n",
    "print(f\"b_list = {b_list}\")\n",
    "\n",
    "del a_list[:-2]\n",
    "\n",
    "print(f\"\\n\\nlist after deleting 0th to -2nd index del a_list[:-2]:\\n\")\n",
    "\n",
    "print(a_list)"
   ]
  },
  {
   "cell_type": "markdown",
   "metadata": {
    "id": "Bs8JGHk0wSe0"
   },
   "source": [
    "### a_list\\[ -i : -j \\]"
   ]
  },
  {
   "cell_type": "markdown",
   "metadata": {
    "id": "lmmsNw0owSe1"
   },
   "source": [
    "- Means start __FROM -I<sup>TH</sup> LAST INDEX__ and cut __TILL -J<sup>TH</sup> LAST INDEX__ (not including -j<sup>th</sup> last index). __-I < -J__"
   ]
  },
  {
   "cell_type": "code",
   "execution_count": null,
   "metadata": {
    "id": "7m6_r7xiwSe1",
    "outputId": "eff3a774-9faa-46f9-8db8-3575460146b0"
   },
   "outputs": [
    {
     "name": "stdout",
     "output_type": "stream",
     "text": [
      "-7th to -4th index not including -4th index a_list[-7:-4] = [4, 5, 6]\n",
      "\n",
      "\n",
      "Assigning -7th to -4th index not including -4th index \n",
      "b_list = a_list[-7:-4]\n",
      "b_list = [4, 5, 6]\n",
      "\n",
      "\n",
      "list after deleting -7th to -4th index not including -7th del a_list[-7:-4]:\n",
      "\n",
      "[1, 2, 3, 7, 8, 9, 10]\n"
     ]
    }
   ],
   "source": [
    "a_list = list(range(1, 11))\n",
    "\n",
    "print(f\"-7th to -4th index not including -4th index a_list[-7:-4] = {a_list[-7:-4]}\\n\")\n",
    "\n",
    "print(f\"\\nAssigning -7th to -4th index not including -4th index \\nb_list = a_list[-7:-4]\")\n",
    "\n",
    "b_list = a_list[-7:-4]\n",
    "\n",
    "print(f\"b_list = {b_list}\")\n",
    "\n",
    "del a_list[-7:-4]\n",
    "\n",
    "print(f\"\\n\\nlist after deleting -7th to -4th index not including -7th del a_list[-7:-4]:\\n\")\n",
    "\n",
    "print(a_list)"
   ]
  },
  {
   "cell_type": "markdown",
   "metadata": {
    "id": "YrD8wcDPwSe5"
   },
   "source": [
    "### a_list\\[ -i : -j : -k \\]"
   ]
  },
  {
   "cell_type": "markdown",
   "metadata": {
    "id": "BoExVaipwSe6"
   },
   "source": [
    "- Means start __from i<sup>th</sup> last index__ take __k steps in reverse each time__ and cut __till j<sup>th</sup> last index__ (not including j<sup>th</sup> last index) __default k = 1.__ __-i > -j__"
   ]
  },
  {
   "cell_type": "code",
   "execution_count": null,
   "metadata": {
    "id": "tPVBHV9qwSe6",
    "outputId": "daabac0f-eecc-4149-aed8-7e13aaaa4ee0"
   },
   "outputs": [
    {
     "name": "stdout",
     "output_type": "stream",
     "text": [
      "-3rd to -7th index not including -7th index, steps = -2 a_list[-3:-7:-2] = [8, 6]\n",
      "\n",
      "\n",
      "Assigning -3rd to -7th index not including -7th index, steps = -2 \n",
      "b_list = a_list[-3:-7:-2]\n",
      "b_list = [8, 6]\n",
      "\n",
      "\n",
      "list after deleting -3rd to -7th index not including -7th index, steps = -2 del a_list[-3:-7:-2]:\n",
      "\n",
      "[1, 2, 3, 4, 5, 7, 9, 10]\n"
     ]
    }
   ],
   "source": [
    "a_list = list(range(1, 11))\n",
    "\n",
    "print(f\"-3rd to -7th index not including -7th index, steps = -2 a_list[-3:-7:-2] = {a_list[-3:-7:-2]}\\n\")\n",
    "\n",
    "print(f\"\\nAssigning -3rd to -7th index not including -7th index, steps = -2 \\nb_list = a_list[-3:-7:-2]\")\n",
    "\n",
    "b_list = a_list[-3:-7:-2]\n",
    "\n",
    "print(f\"b_list = {b_list}\")\n",
    "\n",
    "del a_list[-3:-7:-2]\n",
    "\n",
    "print(f\"\\n\\nlist after deleting -3rd to -7th index not including -7th index, steps = -2 del a_list[-3:-7:-2]:\\n\")\n",
    "\n",
    "print(a_list)"
   ]
  },
  {
   "cell_type": "markdown",
   "metadata": {
    "id": "GbGaHWwZwSfA"
   },
   "source": [
    "### a_list\\[ : : -k \\]"
   ]
  },
  {
   "cell_type": "markdown",
   "metadata": {
    "id": "HTNuoJsPwSfB"
   },
   "source": [
    "- Means if __K IS NEGATIVE__ then start __FROM -1<sup>st</sup> INDEX__ and cut __TILL FIRST INDEX__ (including first index) taking __K STEPS IN REVERSE EACH TIME__."
   ]
  },
  {
   "cell_type": "code",
   "execution_count": null,
   "metadata": {
    "id": "H1YSPd5BwSfC",
    "outputId": "8a40e566-99a6-4212-fe3c-f88a28bdfab1"
   },
   "outputs": [
    {
     "name": "stdout",
     "output_type": "stream",
     "text": [
      "-1st to 0th index including last index, steps = -2 a_list[::-2] = [10, 8, 6, 4, 2]\n",
      "\n",
      "\n",
      "Assigning -1st to 0th index including last index, steps = -2 \n",
      "b_list = a_list[::-2]\n",
      "b_list = [10, 8, 6, 4, 2]\n",
      "\n",
      "\n",
      "list after deleting -1st to 0th index including last index, steps = -2 del a_list[::-2]:\n",
      "\n",
      "[1, 3, 5, 7, 9]\n"
     ]
    }
   ],
   "source": [
    "a_list = list(range(1, 11))\n",
    "\n",
    "print(f\"-1st to 0th index including last index, steps = -2 a_list[::-2] = {a_list[::-2]}\\n\")\n",
    "\n",
    "print(f\"\\nAssigning -1st to 0th index including last index, steps = -2 \\nb_list = a_list[::-2]\")\n",
    "\n",
    "b_list = a_list[::-2]\n",
    "\n",
    "print(f\"b_list = {b_list}\")\n",
    "\n",
    "del a_list[::-2]\n",
    "\n",
    "print(f\"\\n\\nlist after deleting -1st to 0th index including last index, steps = -2 del a_list[::-2]:\\n\")\n",
    "\n",
    "print(a_list)"
   ]
  },
  {
   "cell_type": "markdown",
   "metadata": {
    "id": "4rVgBopIwSfG"
   },
   "source": [
    "# Conclusion"
   ]
  },
  {
   "cell_type": "markdown",
   "metadata": {
    "id": "VwSZZis7wSfH"
   },
   "source": [
    "__THE BASIC NOTATION:__\n",
    "\n",
    "\n",
    "\n",
    "a_list\\[ START : END : STEP \\]\n",
    "\n",
    "__START__\n",
    "\n",
    "- The cutting starts from here.\n",
    "- Index specified in __START__ is considered as part of the __SLICE__\n",
    "\n",
    "__END__\n",
    "\n",
    "- The cutting stops here.\n",
    "- Index specified in __END__ is not considered as part of the __SLICE__\n",
    "\n",
    "__STEPS__\n",
    "\n",
    "- It is the number that is added to the current index to get next index\n",
    "- If after adding the __STEPS__ to current index we get __index_a__\n",
    "- Then if __index_a__ is in range of __range(START, END, STEPS)__ it is considered as part of the __SLICE__"
   ]
  },
  {
   "cell_type": "code",
   "execution_count": null,
   "metadata": {
    "id": "PRdi8vfFwSfH"
   },
   "outputs": [],
   "source": []
  },
  {
   "cell_type": "code",
   "execution_count": null,
   "metadata": {
    "id": "pIoX7HzdwSfM"
   },
   "outputs": [],
   "source": []
  }
 ],
 "metadata": {
  "colab": {
   "name": "08 Slicing.ipynb",
   "provenance": []
  },
  "kernelspec": {
   "display_name": "Python 3 (ipykernel)",
   "language": "python",
   "name": "python3"
  },
  "language_info": {
   "codemirror_mode": {
    "name": "ipython",
    "version": 3
   },
   "file_extension": ".py",
   "mimetype": "text/x-python",
   "name": "python",
   "nbconvert_exporter": "python",
   "pygments_lexer": "ipython3",
   "version": "3.8.10"
  },
  "toc": {
   "base_numbering": 1,
   "nav_menu": {},
   "number_sections": true,
   "sideBar": true,
   "skip_h1_title": false,
   "title_cell": "Table of Contents",
   "title_sidebar": "Contents",
   "toc_cell": false,
   "toc_position": {},
   "toc_section_display": true,
   "toc_window_display": false
  }
 },
 "nbformat": 4,
 "nbformat_minor": 1
}
