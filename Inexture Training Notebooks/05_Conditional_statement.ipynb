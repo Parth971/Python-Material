{
 "cells": [
  {
   "cell_type": "markdown",
   "metadata": {
    "id": "pqJFmD-v-7W1"
   },
   "source": [
    "# if\n",
    "\n",
    "- It is same as if in any other language.\n",
    "- if the condition after if evaluates to true then code block inside if will be executed.\n",
    "- if the condition after if evaluates to false then code bloeck inside if will not be executed."
   ]
  },
  {
   "cell_type": "code",
   "execution_count": null,
   "metadata": {
    "id": "lOWRK4K_-7W3",
    "outputId": "8bbe6795-b22e-4c15-bd2f-4b22861743e9"
   },
   "outputs": [
    {
     "name": "stdout",
     "output_type": "stream",
     "text": [
      "This will be printed.\n"
     ]
    }
   ],
   "source": [
    "if True:\n",
    "    print(\"This will be printed.\")\n",
    "if False:\n",
    "    print(\"This will not be printed\")"
   ]
  },
  {
   "cell_type": "markdown",
   "metadata": {
    "id": "ZZ0J7-z2-7W5"
   },
   "source": [
    "# else"
   ]
  },
  {
   "cell_type": "markdown",
   "metadata": {
    "id": "lnnoi9Xc-7W6"
   },
   "source": [
    "- else is same as else in any other language.\n",
    "- if the prior condition in **if** statement evaluates to True then else block will be executed.\n",
    "- if the prior condition in **if** statement evaluates to False then else block will not be executed."
   ]
  },
  {
   "cell_type": "code",
   "execution_count": null,
   "metadata": {
    "id": "OL-Cr7Nf-7W6",
    "outputId": "26d955b3-4797-44c7-b4c9-84796031eb8f"
   },
   "outputs": [
    {
     "name": "stdout",
     "output_type": "stream",
     "text": [
      "If is true.\n",
      "Print inside else after False if.\n"
     ]
    }
   ],
   "source": [
    "if True:\n",
    "    print(\"If is true.\")\n",
    "else:\n",
    "    print(\"Print inside else after truthy if.\")\n",
    "    \n",
    "if False:\n",
    "    print(\"If is False.\")\n",
    "else:\n",
    "    print(\"Print inside else after False if.\")"
   ]
  },
  {
   "cell_type": "markdown",
   "metadata": {
    "id": "c4JDgXkb-7W7"
   },
   "source": [
    "# if ... elif ... else"
   ]
  },
  {
   "cell_type": "markdown",
   "metadata": {
    "id": "jngDXnCy-7W7"
   },
   "source": [
    "- When we want to check some condition after the prior if statement has failed we can use elif.\n",
    "- elif code block is executed when prior if or elif block is False and the condition with current elif is True."
   ]
  },
  {
   "cell_type": "code",
   "execution_count": null,
   "metadata": {
    "id": "Os5VqQZB-7W8",
    "outputId": "4004b0c9-3487-44bc-b3af-647455c9ff7c"
   },
   "outputs": [
    {
     "name": "stdout",
     "output_type": "stream",
     "text": [
      "I am elif with True condition and prior False if.\n",
      "\n",
      "\n",
      "I am if with True condition.\n",
      "\n",
      "\n",
      "I am else with prior False elif.\n",
      "\n",
      "\n"
     ]
    }
   ],
   "source": [
    "if False:\n",
    "    print(\"I am if with False condition.\\n\\n\")\n",
    "elif True:\n",
    "    print(\"I am elif with True condition and prior False if.\\n\\n\")\n",
    "else:\n",
    "    print(\"I am else with prior True elif.\\n\\n\")\n",
    "    \n",
    "if True:\n",
    "    print(\"I am if with True condition.\\n\\n\")\n",
    "elif True:\n",
    "    print(\"I am elif with True condition.\\n\\n\")\n",
    "else:\n",
    "    print(\"I am else with prior True elif\\n\\n\")\n",
    "\n",
    "if False:\n",
    "    print(\"I am if with False condition.\\n\\n\")\n",
    "elif False:\n",
    "    print(\"I am true elif with True condition.\\n\\n\")\n",
    "else:\n",
    "    print(\"I am else with prior False elif.\\n\\n\")"
   ]
  },
  {
   "cell_type": "markdown",
   "metadata": {
    "id": "sI79grAQ-7W9"
   },
   "source": [
    "# Comparison operators and multiple conditions"
   ]
  },
  {
   "cell_type": "markdown",
   "metadata": {
    "id": "9W2C9wY7-7W-"
   },
   "source": [
    "- **Truthy:** An expression or value which is cosidered to be True with conditional statements is called Truthy.\n",
    "- **Falsy:** An expression or value which is considered to be False with conditional statements is called Falsy.\n",
    "- **or:** When _or_ is used either of the two operands should evaluate to True for truthy outcome.\n",
    "- **and:** When _and_ is used both of the two operands should evaluate to True for truthy outcome.\n",
    "- **in:** Evaluates to True when the object being compared is inside iterable.\n",
    "- **is:** Evaluates to True when two different names are refering to a same object in memory.\n",
    "- **not:** Compliments the outcome."
   ]
  },
  {
   "cell_type": "code",
   "execution_count": null,
   "metadata": {
    "id": "Og0dICK9-7W_",
    "outputId": "23bb49a1-60ca-4426-c941-bec10336a167"
   },
   "outputs": [
    {
     "name": "stdout",
     "output_type": "stream",
     "text": [
      "12 is largest number\n",
      "10 is the middle number\n"
     ]
    }
   ],
   "source": [
    "a = 10\n",
    "b = 12\n",
    "c = 2\n",
    "\n",
    "# largest among the three\n",
    "if b < a and c < a:\n",
    "    print(f\"{a} is largest number\")\n",
    "elif b > c:\n",
    "    print(f\"{b} is largest number\")\n",
    "else:\n",
    "    print(f\"{c} is largest number\")\n",
    "\n",
    "\n",
    "# finding the middle number:\n",
    "if b < a < c or c < a < b:              # use b < a < c instead of (b < a and a < c)\n",
    "    print(f\"{a} is the middle number\")\n",
    "elif a < b < c or c < b < a:\n",
    "    print(f\"{b} is the middle number\")\n",
    "else:\n",
    "    print(f\"{c} is the middle number\")\n",
    "\n",
    "    \n",
    " "
   ]
  },
  {
   "cell_type": "code",
   "execution_count": null,
   "metadata": {
    "id": "ciG2pMWH-7XA",
    "outputId": "d7f3b2ca-3033-4e16-ccf4-9d44ba2e0ed1"
   },
   "outputs": [
    {
     "name": "stdout",
     "output_type": "stream",
     "text": [
      "10 is in the list\n",
      "\n",
      "12 is not in the list\n",
      "\n",
      "2 is in the list\n",
      "\n",
      "'to t' is a sub string of 'Welcome to the world of Python!'.\n",
      "\n",
      "2 is in the dictionary\n"
     ]
    }
   ],
   "source": [
    "a_list = [1, 2, 3, 4, 5, 6, 7, 8, 9, 10]\n",
    "\n",
    "if a in a_list:\n",
    "    print(f\"{a} is in the list\\n\")\n",
    "else:\n",
    "    print(f\"{a} is not in the list\\n\")\n",
    "\n",
    "if b in a_list:\n",
    "    print(f\"{b} is in the list\\n\")\n",
    "else:\n",
    "    print(f\"{b} is not in the list\\n\")\n",
    "\n",
    "    \n",
    "if c in a_list:\n",
    "    print(f\"{c} is in the list\\n\")\n",
    "else:\n",
    "    print(f\"{c} is not in the list\\n\")\n",
    "    \n",
    "\n",
    "some_string = \"Welcome to the world of Python!\"\n",
    "sub_str = \"to t\"\n",
    "\n",
    "if sub_str in some_string:\n",
    "    print(f\"'{sub_str}' is a sub string of '{some_string}'.\\n\")\n",
    "    \n",
    "some_dict = {\"this\": 1, \"is\": 2, \"key\": 3}\n",
    "\n",
    "if 1 in some_dict:   # dict compares the keys instead of values\n",
    "    print(f\"{1} is in the dictionary\")\n",
    "\n",
    "if 2 in some_dict.values():  # to compare values use values() method\n",
    "    print(f\"{2} is in the dictionary\")"
   ]
  },
  {
   "cell_type": "code",
   "execution_count": 4,
   "metadata": {
    "id": "QzWJOlvR-7XB",
    "outputId": "144bd5fc-b48f-4762-88d5-9f9a3ca10d75"
   },
   "outputs": [
    {
     "name": "stdout",
     "output_type": "stream",
     "text": [
      "Value of a and b is same\n"
     ]
    },
    {
     "data": {
      "text/plain": [
       "float"
      ]
     },
     "execution_count": 4,
     "metadata": {},
     "output_type": "execute_result"
    }
   ],
   "source": [
    "a = 100\n",
    "b = 100.0\n",
    "\n",
    "if a == b:\n",
    "    print(\"Value of a and b is same\")\n",
    "if a is b:\n",
    "    print(\"a and b are same object\")\n",
    "type(b)"
   ]
  },
  {
   "cell_type": "code",
   "execution_count": null,
   "metadata": {
    "id": "m2B-5mMG-7XC",
    "outputId": "e42905a9-b70c-4588-d766-d801222a6553"
   },
   "outputs": [
    {
     "name": "stdout",
     "output_type": "stream",
     "text": [
      "True\n"
     ]
    }
   ],
   "source": [
    "a = \"asdf\"\n",
    "b = \"asdf\"\n",
    "print(a is b)"
   ]
  },
  {
   "cell_type": "code",
   "execution_count": 11,
   "metadata": {
    "id": "hgV-Pit1-7XC",
    "outputId": "c3882e12-0530-4a12-9fe0-9dada50abe5c"
   },
   "outputs": [
    {
     "name": "stdout",
     "output_type": "stream",
     "text": [
      "manali\n",
      "False True\n",
      "manali\n"
     ]
    }
   ],
   "source": [
    "a = \"manali\"\n",
    "b = input()\n",
    "\n",
    "print(a is b, a==b)\n",
    "print(b)"
   ]
  },
  {
   "cell_type": "code",
   "execution_count": null,
   "metadata": {
    "id": "7sKouOdb-7XD"
   },
   "outputs": [],
   "source": []
  }
 ],
 "metadata": {
  "colab": {
   "name": "05 Conditional statement.ipynb",
   "provenance": []
  },
  "kernelspec": {
   "display_name": "Python 3 (ipykernel)",
   "language": "python",
   "name": "python3"
  },
  "language_info": {
   "codemirror_mode": {
    "name": "ipython",
    "version": 3
   },
   "file_extension": ".py",
   "mimetype": "text/x-python",
   "name": "python",
   "nbconvert_exporter": "python",
   "pygments_lexer": "ipython3",
   "version": "3.8.10"
  },
  "toc": {
   "base_numbering": 1,
   "nav_menu": {},
   "number_sections": true,
   "sideBar": true,
   "skip_h1_title": false,
   "title_cell": "Table of Contents",
   "title_sidebar": "Contents",
   "toc_cell": false,
   "toc_position": {},
   "toc_section_display": true,
   "toc_window_display": false
  }
 },
 "nbformat": 4,
 "nbformat_minor": 1
}
