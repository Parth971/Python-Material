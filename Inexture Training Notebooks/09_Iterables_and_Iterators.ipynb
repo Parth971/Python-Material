{
 "cells": [
  {
   "cell_type": "markdown",
   "metadata": {
    "id": "DU_O9IGNwUTM"
   },
   "source": [
    "# Iterator and Iterables"
   ]
  },
  {
   "cell_type": "markdown",
   "metadata": {
    "id": "zXhRvplowUTN"
   },
   "source": [
    "## Iterables"
   ]
  },
  {
   "cell_type": "markdown",
   "metadata": {
    "id": "SosGjkZ3wUTO"
   },
   "source": [
    "- The simplest definition of an __iterable__ is __Any object that can be looped over is an iterable object.__\n",
    "- i.e. list, tuple, dict, string, set."
   ]
  },
  {
   "cell_type": "markdown",
   "metadata": {
    "id": "3ZSoYRXBwUTP"
   },
   "source": [
    "### However it is not that simple."
   ]
  },
  {
   "cell_type": "markdown",
   "metadata": {
    "id": "agP-butBwUTQ"
   },
   "source": [
    "- In python in order for an object to be __iterable__ it must implement \\_\\_iter\\_\\_ method.\n",
    "- \\_\\_iter\\_\\_ is expexted to return an __Iterator__ object\n",
    "- Thus, An __iterable__ object is an object that implements \\_\\_iter\\_\\_\n",
    "- Which brings us over to our next question what is an __Iterator__?"
   ]
  },
  {
   "cell_type": "markdown",
   "metadata": {
    "id": "cLIeGiDvwUTS"
   },
   "source": [
    "## Iterator"
   ]
  },
  {
   "cell_type": "markdown",
   "metadata": {
    "id": "aUVzmZ19wUTS"
   },
   "source": [
    "- An __iterator__ is an object that implements \\_\\_next\\_\\_ method.\n",
    "- Which is expected to return the __next element of the iterable object__ that returned it.\n",
    "- Raise a __StopIteration exception__ when no more elements are available.\n",
    "- To clarify things in details let's see how the for loop in python works."
   ]
  },
  {
   "cell_type": "markdown",
   "metadata": {
    "id": "hJDfC8GEwUTT"
   },
   "source": [
    "# The internals of for loop"
   ]
  },
  {
   "cell_type": "code",
   "execution_count": null,
   "metadata": {
    "id": "3rwkrDdNwUTV",
    "outputId": "25ae0ef7-e353-46b9-a1bb-113e4d3019e6"
   },
   "outputs": [
    {
     "name": "stdout",
     "output_type": "stream",
     "text": [
      "1 2 3 4 5 6 "
     ]
    }
   ],
   "source": [
    "a_list = [1, 2, 3, 4, 5, 6]\n",
    "for item in a_list:\n",
    "    print(item, end=' ')"
   ]
  },
  {
   "cell_type": "markdown",
   "metadata": {
    "id": "JMFqWsEtwUTa"
   },
   "source": [
    "__Let's take a look at what above loop does:__\n",
    "\n",
    "1. The loop will get the __iterator__ object of the list as list in python implements \\_\\_iter\\_\\_ method.\n",
    "2. Then \\_\\_next\\_\\_ method will be called on that __iterator__ object and it returns the next element of the list.\n",
    "3. This goes on until all the elements of the list are retrieved.\n",
    "4. When there are no more elements left \\_\\_next\\_\\_ method will raise StopIteration exception and loop terminates."
   ]
  },
  {
   "cell_type": "code",
   "execution_count": null,
   "metadata": {
    "id": "bLijpx5hwUTc",
    "outputId": "25875f11-e030-4f60-acb4-79fa412e00f3"
   },
   "outputs": [
    {
     "name": "stdout",
     "output_type": "stream",
     "text": [
      "1 2 3 4 5 6 "
     ]
    }
   ],
   "source": [
    "# if we try to implement above steps without using for loop.\n",
    "\n",
    "iterator = iter(a_list)\n",
    "while True:\n",
    "    try:\n",
    "        print(next(iterator), end=' ')\n",
    "    except StopIteration:\n",
    "        break"
   ]
  },
  {
   "cell_type": "markdown",
   "metadata": {
    "id": "zwPPIEjxwUTi"
   },
   "source": [
    "- You can see that first we aquired the __iterator__ object of the list.\n",
    "- Then in the while we are calling \\_\\_next\\_\\_ method over that __iterator__ object.\n",
    "- As far as there are elements in the list it returns next element.\n",
    "- Once the elements are exhausted, exception is raised and loop breaks."
   ]
  },
  {
   "cell_type": "markdown",
   "metadata": {
    "id": "b57Rm85BwUTk"
   },
   "source": [
    "# Let's create our very own Iterable\n",
    "\n",
    "__Let's keep few things in mind:__\n",
    "\n",
    "- For an object to be __iterable__ it should implement \\_\\_iter\\_\\_ method.\n",
    "- \\_\\_iter\\_\\_ should return an __iterator__.\n",
    "- Calling \\_\\_next\\_\\_ on this __iterator__ object should return next element of the __iterable__."
   ]
  },
  {
   "cell_type": "code",
   "execution_count": null,
   "metadata": {
    "id": "5zzQl99GwUTl"
   },
   "outputs": [],
   "source": [
    "class Team:\n",
    "    '''\n",
    "    Contains List of Junior team members and also overrides the __iter__() function.\n",
    "    '''\n",
    "    def __init__(self):\n",
    "        self._junior_members = list()\n",
    "  \n",
    "    def add_junior_members(self, members):\n",
    "        self._junior_members += members\n",
    "  \n",
    "    def __iter__(self):\n",
    "        ''' Returns the Iterator object '''\n",
    "        return TeamIterator(self)\n",
    "\n",
    "class TeamIterator:\n",
    "    ''' Iterator class '''\n",
    "    def __init__(self, team):\n",
    "        # Team object reference\n",
    "        self._team = team\n",
    "        # member variable to keep track of current index\n",
    "        self._index = 0\n",
    " \n",
    "    def __next__(self):\n",
    "        ''''Returns the next value from team object's lists '''\n",
    "        if self._index < len(self._team._junior_members) :\n",
    "            \n",
    "            result = self._team._junior_members[self._index]\n",
    "            \n",
    "            self._index += 1\n",
    "            return result\n",
    "        \n",
    "        # End of Iteration\n",
    "        raise StopIteration\n",
    "    def __iter__(self):\n",
    "        return self"
   ]
  },
  {
   "cell_type": "code",
   "execution_count": null,
   "metadata": {
    "id": "zvIeJkSKwUTp",
    "outputId": "075ab894-b0d8-4a7f-d655-cdb59bee5c7c"
   },
   "outputs": [
    {
     "name": "stdout",
     "output_type": "stream",
     "text": [
      "Sam\n",
      "John\n",
      "Marshal\n",
      "True\n"
     ]
    }
   ],
   "source": [
    "team = Team()\n",
    "\n",
    "team.add_junior_members(['Sam', 'John', 'Marshal'])\n",
    "\n",
    "for member in team:\n",
    "    print(member)\n",
    "    \n",
    "print(\"Sam\" in team)"
   ]
  },
  {
   "cell_type": "markdown",
   "metadata": {
    "id": "eK5FP6XzwUUB"
   },
   "source": [
    "## Simplifying the custom iterator\n",
    "\n",
    "- In the simplest case the __iterable__ will implement next itself and return self in __iter__.\n",
    "- In our team class we are manipulating list.\n",
    "- Thus, instead of writing our own __Iterator__ class we can use __iterator__ of the __list__ itself.\n",
    "- In our class TeamIterator we are checking index and returning element of a __list__.\n",
    "- However we can get rid of it and just return the next item of list by calling \\_\\_next\\_\\_ on __iterator__ of that list."
   ]
  },
  {
   "cell_type": "code",
   "execution_count": null,
   "metadata": {
    "id": "OhaQf8IAwUUC"
   },
   "outputs": [],
   "source": [
    "class Team:\n",
    "    '''\n",
    "    Contains List of Junior and senior team members and also overrides the __iter__() function.\n",
    "    '''\n",
    "    def __init__(self):\n",
    "        self._junior_members = list()\n",
    "  \n",
    "    def add_junior_members(self, members):\n",
    "        self._junior_members += members\n",
    "  \n",
    "    def __iter__(self):\n",
    "        ''' Returns the Iterator object '''\n",
    "        return iter(self._junior_members)\n",
    "    \n",
    "    def __next__(self):\n",
    "        return next(self)"
   ]
  },
  {
   "cell_type": "code",
   "execution_count": null,
   "metadata": {
    "id": "B85jNHxPwUUJ",
    "outputId": "72734a3a-62b1-47dc-fcc6-8f182f912fa6"
   },
   "outputs": [
    {
     "name": "stdout",
     "output_type": "stream",
     "text": [
      "Sam\n",
      "John\n",
      "Marshal\n"
     ]
    }
   ],
   "source": [
    "team = Team()\n",
    "\n",
    "team.add_junior_members(['Sam', 'John', 'Marshal'])\n",
    "\n",
    "for member in team:\n",
    "    print(member)"
   ]
  },
  {
   "cell_type": "markdown",
   "metadata": {
    "id": "azuDhpAOwUUP"
   },
   "source": [
    "# Conclusion"
   ]
  },
  {
   "cell_type": "markdown",
   "metadata": {
    "id": "hlQvrlGYwUUQ"
   },
   "source": [
    "- An object is __iterable__ only if it implements \\_\\_iter\\_\\_ method.\n",
    "- \\_\\_iter\\_\\_ must return an __iterator__ object.\n",
    "- The __iterator__ class must implement \\_\\_next\\_\\_ method.\n",
    "- \\_\\_next\\_\\_ must return the next element of it's __iterable__.\n",
    "- __Iterator__ class also implements \\_\\_iter\\_\\_ method but returns itself when it is called.\n",
    "\n",
    "__Which would mean that__\n",
    "\n",
    "- Every __iterator__ object is an __iterable__ (cause it implements \\_\\_iter\\_\\_ method).\n",
    "- But every __iterable__ is not an __iterator__ (it does not necessarily implement next method).\n",
    "\n",
    "__Key points__\n",
    "\n",
    "- When __iterables__ are used in loop it's __iterator__ object is used.\n",
    "- When __iterator__ object has no more items the loop stops (by raising StopIteration method).\n",
    "- All __itrators__ and __itrables__ can be looped over (because __iterator__ also implements \\_\\_iter\\_\\_ method)\n",
    "\n",
    "__Key differences and similarities__\n",
    "\n",
    "| ITERABLE                          \t| ITERATOR                                                                                \t|\n",
    "|:-----------------------------------\t|:-----------------------------------------------------------------------------------------\t|\n",
    "| Implements __iter__ method        \t| Implements __next__ method                                                              \t|\n",
    "| You can loop over it              \t| You can loop over it                                                                    \t|\n",
    "| len() will return number of items \t| You can not call len() on it                                                            \t|\n",
    "| You can not call next() on it     \t| next() will return next element of it's iterable                                        \t|\n",
    "| Contains all the elements in it   \t| Does not contain any element but retrieves them at run time from it's iterable when next method is called \t|"
   ]
  },
  {
   "cell_type": "markdown",
   "metadata": {
    "id": "qo8j6uF_wUUR"
   },
   "source": [
    "![image.png](attachment:image.png)"
   ]
  },
  {
   "cell_type": "code",
   "execution_count": null,
   "metadata": {
    "id": "kbZg8AS7wUUR"
   },
   "outputs": [],
   "source": []
  }
 ],
 "metadata": {
  "colab": {
   "name": "09 Iterables and Iterators.ipynb",
   "provenance": []
  },
  "kernelspec": {
   "display_name": "Python 3 (ipykernel)",
   "language": "python",
   "name": "python3"
  },
  "language_info": {
   "codemirror_mode": {
    "name": "ipython",
    "version": 3
   },
   "file_extension": ".py",
   "mimetype": "text/x-python",
   "name": "python",
   "nbconvert_exporter": "python",
   "pygments_lexer": "ipython3",
   "version": "3.8.10"
  },
  "toc": {
   "base_numbering": 1,
   "nav_menu": {},
   "number_sections": true,
   "sideBar": true,
   "skip_h1_title": false,
   "title_cell": "Table of Contents",
   "title_sidebar": "Contents",
   "toc_cell": false,
   "toc_position": {},
   "toc_section_display": true,
   "toc_window_display": false
  }
 },
 "nbformat": 4,
 "nbformat_minor": 1
}
